{
  "nbformat": 4,
  "nbformat_minor": 0,
  "metadata": {
    "colab": {
      "provenance": []
    },
    "kernelspec": {
      "name": "python3",
      "display_name": "Python 3"
    },
    "language_info": {
      "name": "python"
    }
  },
  "cells": [
    {
      "cell_type": "markdown",
      "source": [
        "# Files, exceptional handling, logging and memory management Questions:"
      ],
      "metadata": {
        "id": "NXthRU7iUM2N"
      }
    },
    {
      "cell_type": "markdown",
      "source": [
        "1.  What is the difference between interpreted and compiled languages?\n",
        "\n",
        "**ANSWER:** The key difference between interpreted and compiled languages lies in their translation process. In simple terms, a compiled language is translated all at once before it can be run, while an interpreted language is translated and executed line-by-line during runtime.\n",
        "\n",
        "* Compiled Languages:\n",
        "\n",
        "A compiler is a program that translates the entire source code of a program into machine code—the binary instructions that a computer's CPU can understand and execute directly. This translation process, known as compilation, happens before the program is ever run.\n",
        "\n",
        "i. Process: The compiler takes the entire source code as input and produces an executable file.\n",
        "\n",
        "ii. Speed: Compiled programs are generally faster because the translation to machine code is done once, and the CPU can execute the optimized code directly.\n",
        "\n",
        "iii. Error Detection: Errors in the code are typically detected during the compilation phase, and the compiler will report all errors before an executable file is created.\n",
        "\n",
        "iv. Portability: Compiled programs are generally platform-dependent, meaning an executable file compiled for one operating system (e.g., Windows) will not work on another (e.g., macOS) without recompilation.\n",
        "\n",
        "Examples: C, C++, Rust, and Go are common examples of compiled languages.\n",
        "\n",
        "* Interpreted Languages:\n",
        "\n",
        "An interpreter is a program that reads and executes the source code of a program line by line. The translation happens on the fly as the program is running.\n",
        "\n",
        "i. Process: The interpreter reads one line of code, translates it to machine instructions, and executes it immediately before moving to the next line. No separate executable file is created.\n",
        "\n",
        "ii. Speed: Interpreted programs are generally slower because the translation process happens with every execution of the program.\n",
        "\n",
        "iii. Error Detection: Errors are detected at runtime. If an interpreter encounters a line with an error, it will stop and report the error at that point.\n",
        "\n",
        "iv. Portability: Interpreted programs are generally platform-independent. As long as the target machine has the correct interpreter installed, the same source code can run on different operating systems.\n",
        "\n",
        "v. Examples: Python, JavaScript, Ruby, and PHP are well-known interpreted languages."
      ],
      "metadata": {
        "id": "B-uAeiomUSie"
      }
    },
    {
      "cell_type": "markdown",
      "source": [
        "2.  What is exception handling in Python?\n",
        "\n",
        "**ANSWER:** Exception handling in Python is a mechanism that allows you to manage and respond to errors that occur during the execution of a program. Instead of the program crashing when an error is encountered, you can use exception handling to gracefully handle the problem, allowing the program to continue running or to exit in a controlled manner.\n",
        "\n",
        "* How it Works:\n",
        "\n",
        "The core of exception handling involves three main keywords: try, except, and finally.\n",
        "\n",
        "I. try: The code that might raise an exception is placed inside the try block. If an error occurs, the execution of this block is stopped, and the program looks for a matching except block.\n",
        "\n",
        "II. except: This block is executed if an exception occurs in the try block. You can specify the type of exception you want to handle. For example, except ValueError: will only catch ValueError exceptions. You can have multiple except blocks to handle different types of errors.\n",
        "\n",
        "III. finally: The code in the finally block will always be executed, regardless of whether an exception occurred or was handled. This is useful for cleanup operations, like closing files or database connections, to ensure they're done even if the program crashes.\n",
        "\n",
        "* Example:\n",
        "\n",
        "Here's a simple example of how exception handling works with division by zero:"
      ],
      "metadata": {
        "id": "KOr9c396XaxW"
      }
    },
    {
      "cell_type": "code",
      "source": [
        "try:\n",
        "    # This code will raise a ZeroDivisionError\n",
        "    result = 10 / 0\n",
        "except ZeroDivisionError:\n",
        "    # This block handles the specific error\n",
        "    print(\"Error: Cannot divide by zero!\")\n",
        "finally:\n",
        "    # This code will always run\n",
        "    print(\"Execution complete.\")"
      ],
      "metadata": {
        "id": "wZZd4Pr6Ym-E"
      },
      "execution_count": null,
      "outputs": []
    },
    {
      "cell_type": "markdown",
      "source": [
        "In this example, the try block attempts to divide by zero, which raises a ZeroDivisionError. The program then jumps to the except ZeroDivisionError: block, which prints the error message. Finally, the finally block executes, printing \"Execution complete.\" This prevents the program from abruptly stopping and provides a user-friendly message instead."
      ],
      "metadata": {
        "id": "KhYoM5yZYuSk"
      }
    },
    {
      "cell_type": "markdown",
      "source": [
        "3.  What is the purpose of the finally block in exception handling?\n",
        "\n",
        "**ANSWER:** The purpose of a finally block in exception handling is to ensure that a specific block of code is always executed, regardless of whether an exception was thrown or caught. This makes it ideal for cleanup operations.\n",
        "\n",
        "* Why and When to Use:\n",
        "\n",
        "The finally block is essential for guaranteeing that resources are properly released. For example, when you open a file or a network connection, you need to make sure it's closed, even if an error occurs while you're using it. If you put the closing logic inside the finally block, it will run after the try block and any catch blocks, ensuring the resource is not left open.\n",
        "\n",
        "* Example Scenario:\n",
        "\n",
        "Consider opening a file to write data. The try block would contain the code to open and write to the file. If an exception occurs (like the disk being full), the program would jump to the catch block. However, the file still needs to be closed. By placing the .close() method inside a finally block, you ensure the file is closed, preventing resource leaks.  This prevents issues like a file being locked or memory being consumed unnecessarily."
      ],
      "metadata": {
        "id": "x6gFYMmWYx9l"
      }
    },
    {
      "cell_type": "markdown",
      "source": [
        "4. What is logging in Python?\n",
        "\n",
        "**ANSWER:** Logging in Python is a built-in module that provides a standard way to track events that happen while a program runs. It lets developers record information, warnings, and errors in a structured way, which is crucial for debugging, monitoring, and understanding the program's behavior. Instead of using print() statements for debugging, which are messy and difficult to manage, logging offers a more powerful and flexible solution.\n",
        "\n",
        "* How Logging Works:\n",
        "\n",
        "The Python logging module has four main components that work together:\n",
        "\n",
        "I. Loggers: These are the primary objects you interact with. You create a logger instance and use it to send logging messages. A logger has a severity level (e.g., DEBUG, INFO, WARNING, ERROR, CRITICAL) that filters which messages it will process.\n",
        "\n",
        "II. Handlers: Handlers determine where the log messages go. For example, a StreamHandler sends messages to the console, a FileHandler writes them to a file, and a SMTPHandler sends them via email. A logger can have multiple handlers.\n",
        "\n",
        "III. Formatters: Formatters specify the layout of the log messages. They can include details like the timestamp, the severity level, the logger's name, and the actual message.\n",
        "\n",
        "IV. Filters: Filters provide a more granular way to control which messages get handled. They can be used to add context or reject messages based on criteria other than severity.\n",
        "\n",
        "* Severity Levels:\n",
        "\n",
        "The logging module defines several standard severity levels, in increasing order of importance:\n",
        "\n",
        "i. DEBUG: Detailed information, typically only of interest when diagnosing problems.\n",
        "\n",
        "ii. INFO: Confirmation that things are working as expected.\n",
        "\n",
        "iii. WARNING: An indication that something unexpected happened, or an indication of a problem in the near future (e.g., 'disk space low'). The software is still working as expected.\n",
        "\n",
        "iv. ERROR: Due to a more serious problem, the software has not been able to perform some function.\n",
        "\n",
        "v. CRITICAL: A serious error, indicating that the program itself may be unable to continue running."
      ],
      "metadata": {
        "id": "q1ZJ-QoL3NVG"
      }
    },
    {
      "cell_type": "markdown",
      "source": [
        "5. What is the significance of the __del__ method in Python?\n",
        "\n",
        "**ANSWER:** The __del__ method in Python is a special method called a destructor. Its significance lies in its role in object finalization, specifically when an object is about to be garbage collected.\n",
        "\n",
        "* What __del__ Does:\n",
        "\n",
        "The primary purpose of the __del__ method is to define actions that should be taken just before an object is destroyed. This can be useful for releasing external resources that the object holds, such as:\n",
        "\n",
        "i. Closing file handles: If an object opens a file, __del__ can ensure the file is properly closed.\n",
        "\n",
        "ii. Releasing network connections: An object managing a socket connection can use __del__ to close it.\n",
        "\n",
        "iii. Deleting temporary files: If an object creates temporary files, __del__ can be used to clean them up.\n",
        "\n",
        "iv. Releasing locks: An object that acquires a lock can use __del__ to ensure it's released, preventing deadlocks.\n",
        "\n",
        "A common example where a destructor is beneficial is a class that wraps a file.\n",
        "\n",
        "* Why It's Rarely Used:\n",
        "\n",
        "Despite its purpose, the __del__ method is rarely used in modern Python programming. This is because its behavior is unpredictable due to the nature of Python's garbage collector. The garbage collector decides when to destroy an object, and this can happen at an unknown time, or even not at all if the program exits before the object is collected.\n",
        "\n",
        "Instead of __del__, Python programmers prefer to use context managers with the with statement. This approach provides a more explicit and deterministic way to manage resources. The with statement guarantees that a resource will be released, regardless of how the block of code exits (e.g., due to an error).\n",
        "\n",
        "For example, to ensure a file is closed, you would use a with statement:"
      ],
      "metadata": {
        "id": "V9djEYnLHg-M"
      }
    },
    {
      "cell_type": "code",
      "source": [
        "with open(\"my_file.txt\", \"w\") as file:\n",
        "    # Do something with the file\n",
        "    file.write(\"Hello, world!\")\n",
        "# The file is guaranteed to be closed here"
      ],
      "metadata": {
        "id": "QxrYe_QdDrCl"
      },
      "execution_count": null,
      "outputs": []
    },
    {
      "cell_type": "markdown",
      "source": [
        "6. What is the difference between import and from ... import in Python?\n",
        "\n",
        "**ANSWER:** Using import and from ... import in Python are both ways to bring code from one module into another, but they differ in how you access the imported code. The key difference is the namespace.\n",
        "\n",
        "* The import Statement:\n",
        "\n",
        "The import statement imports the entire module. When you use import, you create a reference to the module itself. To access any of the functions, classes, or variables within that module, you must prefix them with the module name and a dot (.).\n",
        "\n",
        "* The from ... import Statement:\n",
        "\n",
        "The from ... import statement imports specific components (like functions, classes, or variables) from a module directly into the current namespace. This means you can use the imported items without needing to prefix them with the module name."
      ],
      "metadata": {
        "id": "HjcOgoI5DvUv"
      }
    },
    {
      "cell_type": "markdown",
      "source": [
        "7.  How can you handle multiple exceptions in Python?\n",
        "\n",
        "**ANSWER:** You can handle multiple exceptions in Python using a single except block with a tuple of exception types, or by using multiple except blocks.\n",
        "\n",
        "* Handling Exceptions with a Tuple:\n",
        "\n",
        "The most common and Pythonic way to handle multiple exceptions is to provide a tuple of exception types to a single except block. This approach is cleaner and more concise than using multiple blocks for the same type of handling logic."
      ],
      "metadata": {
        "id": "f6-unMIFTi_w"
      }
    },
    {
      "cell_type": "code",
      "source": [
        "try:\n",
        "    # Code that might raise exceptions\n",
        "    value = 10 / 0\n",
        "    my_list = [1, 2]\n",
        "    print(my_list[3])\n",
        "except (ZeroDivisionError, IndexError) as e:\n",
        "    print(f\"An error occurred: {e}\")"
      ],
      "metadata": {
        "id": "ziDYQzUHUDBP"
      },
      "execution_count": null,
      "outputs": []
    },
    {
      "cell_type": "markdown",
      "source": [
        "In the code above, the except block will catch either a ZeroDivisionError or an IndexError. The variable e (or another variable name of your choice) is used to capture the exception object, allowing you to access information about the error.\n",
        "\n",
        "* Handling Exceptions with Multiple Blocks:\n",
        "\n",
        "You can also use multiple except blocks, each designed to catch a specific type of exception. This is useful when you need to perform different actions for different types of errors."
      ],
      "metadata": {
        "id": "1rSp2PfaUG3l"
      }
    },
    {
      "cell_type": "code",
      "source": [
        "try:\n",
        "    # Code that might raise exceptions\n",
        "    num = int(\"abc\")\n",
        "except ValueError:\n",
        "    print(\"Invalid number format.\")\n",
        "except FileNotFoundError:\n",
        "    print(\"File not found.\")"
      ],
      "metadata": {
        "id": "AzTClDilUNn-"
      },
      "execution_count": null,
      "outputs": []
    },
    {
      "cell_type": "markdown",
      "source": [
        "Here, the try block attempts to convert a string to an integer, which will raise a ValueError. The program will then jump to the except ValueError block and execute the code there. This method gives you finer control over how each type of error is handled."
      ],
      "metadata": {
        "id": "EchdLo_WUQBn"
      }
    },
    {
      "cell_type": "markdown",
      "source": [
        "8.  What is the purpose of the with statement when handling files in Python?\n",
        "\n",
        "**ANSWER:** The primary purpose of the with statement in Python when handling files is to ensure that a file is properly closed, even if an error occurs. It simplifies exception handling and resource management.\n",
        "\n",
        "* Why It's Important:\n",
        "\n",
        "The with statement creates a context manager. When you use it, Python automatically handles the setup and teardown of resources. For file handling, this means:\n",
        "\n",
        "i. Setup: The file is opened.\n",
        "\n",
        "ii. Teardown: The file's __exit__ method is called automatically, which closes the file. This happens even if the code inside the with block encounters an error or returns an unexpected value.\n",
        "\n",
        "This is a much safer alternative to manually opening and closing a file using file.open() and file.close() in separate lines. If an exception occurs between the open() and close() calls, the close() statement might never be reached, leaving the file open and potentially causing data corruption or resource leaks.\n",
        "\n",
        "* How It Works:\n",
        "\n",
        "Here is a simple example of how the with statement works:"
      ],
      "metadata": {
        "id": "omDtYiAcUTnz"
      }
    },
    {
      "cell_type": "code",
      "source": [
        "# Using the with statement\n",
        "with open('example.txt', 'w') as file:\n",
        "    file.write('Hello, world!')\n",
        "\n",
        "# The file is automatically closed here, even if an error occurred."
      ],
      "metadata": {
        "id": "W2JZlkSEY1lR"
      },
      "execution_count": null,
      "outputs": []
    },
    {
      "cell_type": "markdown",
      "source": [
        "In this code, the file is automatically closed as soon as the block is exited, regardless of how it's exited (normally, or due to an exception).\n",
        "\n",
        "For comparison, here is the less-safe, manual way:"
      ],
      "metadata": {
        "id": "HLWD_NwwY3-g"
      }
    },
    {
      "cell_type": "code",
      "source": [
        "# The manual way, which can lead to problems\n",
        "file = open('example.txt', 'w')\n",
        "file.write('Hello, world!')\n",
        "# What if an error happens here?\n",
        "file.close() # This line might never be reached."
      ],
      "metadata": {
        "id": "N08paTXuY61B"
      },
      "execution_count": null,
      "outputs": []
    },
    {
      "cell_type": "markdown",
      "source": [
        "By using the with statement, you can write cleaner, more reliable code that avoids these common pitfalls."
      ],
      "metadata": {
        "id": "t3GBbBprY8zh"
      }
    },
    {
      "cell_type": "markdown",
      "source": [
        "9. What is the difference between multithreading and multiprocessing?\n",
        "\n",
        "**ANSWER:** Multithreading and multiprocessing are techniques used in computer programming to execute multiple tasks, improving performance and responsiveness. The primary difference lies in how they manage resources and execute tasks.\n",
        "\n",
        "* Multiprocessing:\n",
        "\n",
        "Multiprocessing involves running multiple, independent processes simultaneously on different CPU cores or processors.\n",
        "\n",
        "i. Each process has its own dedicated memory space, which means they are isolated from each other. If one process crashes, it won't affect the others.\n",
        "\n",
        "ii. Because each process has its own memory, sharing data between them is more complex and requires specific inter-process communication mechanisms (e.g., pipes, queues).\n",
        "\n",
        "iii. Multiprocessing is ideal for CPU-bound tasks, which are tasks that spend most of their time performing intensive calculations, like video rendering, data analysis, or scientific simulations. It leverages multiple cores to achieve true parallelism, where multiple tasks are executed at the exact same moment.\n",
        "\n",
        "* Multithreading:\n",
        "\n",
        "Multithreading involves a single process that contains multiple threads, which are lightweight units of execution that share the same memory space.\n",
        "\n",
        "i. All threads within a process share the same memory, making data sharing between them faster and easier. However, this also introduces potential issues like race conditions and deadlocks, where multiple threads try to access or modify the same data simultaneously.\n",
        "\n",
        "ii. Multithreading is best suited for I/O-bound tasks, which are tasks that spend most of their time waiting for input/output operations to complete, such as network requests, file downloads, or database queries. By switching between threads while one is waiting, the program can remain responsive.\n",
        "\n",
        "iii. In multithreading, tasks are executed concurrently, not in true parallelism. This means the CPU rapidly switches between threads, giving the illusion of simultaneous execution. In languages like Python, the Global Interpreter Lock (GIL) prevents threads from running Python bytecode in true parallel on multiple cores."
      ],
      "metadata": {
        "id": "2MDytuHkY-gV"
      }
    },
    {
      "cell_type": "markdown",
      "source": [
        "10. What are the advantages of using logging in a program?\n",
        "\n",
        "**ANSWER:** Using logging in a program offers several advantages that are crucial for software development and maintenance. The main benefit is the ability to record events that happen while the program is running, which is essential for debugging, monitoring, and understanding the program's behavior.\n",
        "\n",
        "* Debugging and Troubleshooting:\n",
        "\n",
        "Logging is an indispensable tool for debugging. By strategically placing log statements throughout the code, a developer can track the flow of execution and the state of variables at different points in the program. This is far more effective than using print statements, as logging allows you to:\n",
        "\n",
        "I. Categorize messages: You can assign different log levels (e.g., DEBUG, INFO, WARNING, ERROR, CRITICAL) to messages. This helps in filtering and focusing on specific types of events, such as errors, without being overwhelmed by less important information.\n",
        "\n",
        "II. Control output: Logging configurations can be changed without modifying the source code. You can easily turn off verbose debug messages in a production environment or increase the verbosity when troubleshooting a specific issue.\n",
        "\n",
        "III. Capture a history of events: A log file provides a chronological record of what happened before a crash or an unexpected event. This can be critical for diagnosing issues that are difficult to reproduce.\n",
        "\n",
        "* Monitoring and Performance Analysis:\n",
        "\n",
        "Logging is vital for monitoring the health and performance of an application, especially in a production environment.\n",
        "\n",
        "I. Proactive issue detection: By logging key metrics or unusual events, you can create alerts that notify you when something is wrong, allowing for a proactive response rather than a reactive one.\n",
        "\n",
        "II. Performance bottlenecks: Log files can be analyzed to identify slow parts of the code or resource-intensive operations. By logging the start and end times of key functions, you can get a better picture of where time is being spent.\n",
        "\n",
        "* Auditing and Security:\n",
        "\n",
        "Logging can also be used for security purposes and for creating an audit trail.\n",
        "\n",
        "I. Auditing: Logs can provide a record of user actions, such as successful or failed login attempts, changes to data, and other critical operations. This is often a requirement for compliance in various industries.\n",
        "\n",
        "II. Security analysis: By analyzing logs, you can detect suspicious activities or patterns that may indicate a security breach. For example, a high number of failed login attempts from a single IP address could signal a brute-force attack."
      ],
      "metadata": {
        "id": "cVVy99WQZ1YY"
      }
    },
    {
      "cell_type": "markdown",
      "source": [
        "11.  What is memory management in Python?\n",
        "\n",
        "**ANSWER:** Memory management in Python is the process by which Python handles memory allocation and deallocation for its objects. It involves two main components: a private heap for all Python objects and a built-in garbage collector to reclaim memory that's no longer in use.\n",
        "\n",
        "* How It Works:\n",
        "\n",
        "Python's memory manager handles all memory-related operations. It allocates memory for objects from a private heap, which is a dedicated memory space that the programmer doesn't directly access. The allocation is done on a demand-driven basis, meaning memory is only requested when an object needs to be created.\n",
        "\n",
        "i. Reference Counting: Python uses a simple and efficient method called reference counting to track the number of references to an object. When an object is created, its reference count is set to 1. Each time a new reference points to that object, its count increases. Conversely, when a reference is removed, the count decreases. When the reference count of an object drops to zero, the memory it occupies can be deallocated.\n",
        "\n",
        "ii. Garbage Collection: While reference counting is highly effective, it can't handle circular references (e.g., two objects referencing each other, even when they're no longer in use). To address this, Python's memory manager includes a generational garbage collector 🧹. This collector periodically scans for and reclaims objects that are part of a circular reference and have become unreachable. It's a three-generation system, with younger objects being checked more frequently than older ones, which optimizes performance."
      ],
      "metadata": {
        "id": "Cq889T9WeOFK"
      }
    },
    {
      "cell_type": "markdown",
      "source": [
        "12.  What are the basic steps involved in exception handling in Python?\n",
        "\n",
        "**ANSWER:** Exception handling in Python involves using try, except, else, and finally blocks to manage and respond to errors that occur during program execution. This process prevents a program from crashing when an unexpected event happens.\n",
        "\n",
        "* The Four Main Blocks:\n",
        "\n",
        "Here's a breakdown of the basic steps involved in exception handling:\n",
        "\n",
        "i. try block: This is the first step. You place the code that might raise an exception inside this block. The interpreter will attempt to execute this code. If an exception occurs, the rest of the code in the try block is skipped, and the program control moves to the except block.\n",
        "\n",
        "ii. except block: This block is executed only if an exception occurs in the corresponding try block. You can specify the type of exception you want to catch (e.g., except ValueError:) or catch all exceptions (e.g., except Exception:). The code inside this block handles the error, such as printing an error message or logging the issue.\n",
        "\n",
        "iii. else block: This optional block runs only if the code in the try block executes successfully without any exceptions. It's useful for placing code that should only be run if no errors occurred. For example, if you're trying to open a file and read its contents, you might perform subsequent operations on the file inside the else block.\n",
        "\n",
        "iv. finally block: This is another optional block. The code in the finally block is always executed, regardless of whether an exception occurred or not. It's often used for cleanup actions, such as closing files or network connections, ensuring that these resources are released even if an error happened.\n",
        "\n",
        "* Example:\n",
        "\n",
        "Here's a simple example illustrating these steps:"
      ],
      "metadata": {
        "id": "lFGKp7EVeo-2"
      }
    },
    {
      "cell_type": "code",
      "source": [
        "try:\n",
        "    # Code that might raise an exception\n",
        "    numerator = 10\n",
        "    denominator = int(input(\"Enter a number to divide 10 by: \"))\n",
        "    result = numerator / denominator\n",
        "    print(f\"The result is: {result}\")\n",
        "\n",
        "except ValueError:\n",
        "    # Handles a specific exception type (e.g., non-integer input)\n",
        "    print(\"Error: You must enter a valid integer.\")\n",
        "\n",
        "except ZeroDivisionError:\n",
        "    # Handles another specific exception type (e.g., division by zero)\n",
        "    print(\"Error: You cannot divide by zero.\")\n",
        "\n",
        "except Exception as e:\n",
        "    # Catches any other exception\n",
        "    print(f\"An unexpected error occurred: {e}\")\n",
        "\n",
        "else:\n",
        "    # Code to run if no exception occurred in the try block\n",
        "    print(\"Division successful.\")\n",
        "\n",
        "finally:\n",
        "    # Code that always runs\n",
        "    print(\"Execution complete.\")"
      ],
      "metadata": {
        "id": "4Wy9DUyifLyl"
      },
      "execution_count": null,
      "outputs": []
    },
    {
      "cell_type": "markdown",
      "source": [
        "13. Why is memory management important in Python?\n",
        "\n",
        "**ANSWER:** Memory management is crucial in Python because it automates the handling of memory allocation and deallocation, preventing common programming errors and optimizing performance. Python's memory manager handles everything from creating new objects to cleaning up unused ones, freeing developers from manual memory tasks.\n",
        "\n",
        "* Key Aspects of Memory Management in Python:\n",
        "\n",
        "Python's memory management system relies on two main components: a private heap and a garbage collector.\n",
        "\n",
        "I. The Private Heap\n",
        "\n",
        "All Python objects and data structures are stored in a private heap, which is a dedicated memory space. The Python memory manager controls the allocation and deallocation of this memory. This means developers don't have to manually manage memory blocks, unlike in languages like C or C++. It ensures that memory isn't accidentally corrupted or released when it's still in use.\n",
        "\n",
        "II. Reference Counting\n",
        "\n",
        "Python's primary method for garbage collection is reference counting. Each object has a counter that tracks how many references (variables, data structures, etc.) point to it. When an object is created, its reference count is 1. When a new reference points to it, the count increases. When a reference is deleted or goes out of scope, the count decreases. When an object's reference count drops to zero, the object is immediately deallocated and the memory is reclaimed. This is efficient because it cleans up memory as soon as it becomes available.\n",
        "\n",
        "III. Garbage Collector\n",
        "\n",
        "While reference counting is very effective, it can't handle reference cycles. A reference cycle occurs when two or more objects refer to each other, but are no longer accessible from the rest of the program. For example, object A refers to object B, and object B refers back to object A, but nothing else refers to either of them. In this case, their reference counts will never drop to zero. The garbage collector is a separate module that runs periodically to detect and clean up these cycles, preventing memory leaks. It uses a generational approach, where objects are grouped into \"generations\" based on how long they have existed. Newer objects are checked more frequently for cycles, as they are more likely to become garbage sooner."
      ],
      "metadata": {
        "id": "gi8upQLdfUuV"
      }
    },
    {
      "cell_type": "markdown",
      "source": [
        "14. What is the role of try and except in exception handling?\n",
        "\n",
        "**ANSWER:** The try and except blocks in Python are used for exception handling, which is a way to manage errors that occur during the execution of a program. They allow you to write code that can gracefully handle unexpected situations without causing the program to crash.\n",
        "\n",
        "* The try Block:\n",
        "\n",
        "The try block contains the code that might raise an exception. You place the code that you want to monitor for errors inside this block. If an error occurs within the try block, Python stops executing the rest of the code in that block and looks for a corresponding except block.\n",
        "\n",
        "* The except Block:\n",
        "\n",
        "The except block is executed only if an exception is raised in the try block. It contains the code that handles the error. This is where you can print an informative message to the user, log the error for debugging, or take alternative actions to ensure the program continues to run smoothly. You can specify the type of exception you want to catch (e.g., ValueError, TypeError) or catch a more general Exception to handle any type of error.\n",
        "\n",
        "Example\n",
        "\n",
        "Here's a simple example:"
      ],
      "metadata": {
        "id": "MejqbDAef7CY"
      }
    },
    {
      "cell_type": "code",
      "source": [
        "try:\n",
        "    # This code might raise a ValueError if the user enters a non-integer\n",
        "    number = int(input(\"18 \"))\n",
        "    result = 10 / number\n",
        "    print(f\"The result is: {result}\")\n",
        "except ValueError:\n",
        "    # This block handles the ValueError\n",
        "    print(\"18.\")\n",
        "except ZeroDivisionError:\n",
        "    # This block handles the ZeroDivisionError\n",
        "    print(\"18\")"
      ],
      "metadata": {
        "id": "I6b0kF6ykgad"
      },
      "execution_count": null,
      "outputs": []
    },
    {
      "cell_type": "markdown",
      "source": [
        "In this example, the try block attempts to convert user input to an integer and perform a division. If the user enters a non-integer, a ValueError is raised, and the code in the except ValueError block is executed. If the user enters 0, a ZeroDivisionError is raised, and the code in the except ZeroDivisionError block is executed."
      ],
      "metadata": {
        "id": "t_Jq0p-hk9Wh"
      }
    },
    {
      "cell_type": "markdown",
      "source": [
        "15.  How does Python's garbage collection system work?\n",
        "\n",
        "**ANSWER:** Python's garbage collection (GC) system automatically reclaims memory that's no longer being used by objects. It primarily works through two mechanisms: reference counting and a generational garbage collector to handle circular references.\n",
        "\n",
        "* Reference Counting:\n",
        "\n",
        "Reference counting is the primary mechanism for garbage collection in Python. Every object in Python has a reference count, which is a counter that keeps track of how many references (or pointers) are pointing to it.\n",
        "\n",
        "i. When an object is created, its reference count is set to 1.\n",
        "\n",
        "ii. The reference count is incremented whenever a new reference is created (e.g., assigning the object to another variable).\n",
        "\n",
        "iii. The reference count is decremented when a reference is destroyed (e.g., a variable goes out of scope, or a reference is explicitly deleted with del).\n",
        "\n",
        "iv. When an object's reference count drops to zero, it means there are no longer any variables pointing to it, and the object can be deallocated and the memory it occupied is freed.\n",
        "\n",
        "This method is efficient and simple, but it has a significant limitation: it can't detect reference cycles. A reference cycle occurs when two or more objects refer to each other, creating a closed loop. In this scenario, even if the objects are no longer accessible from the main program, their reference counts will never drop to zero because they are still being referenced by each other. This is where the generational garbage collector comes in."
      ],
      "metadata": {
        "id": "ExoKij_Gk_2k"
      }
    },
    {
      "cell_type": "markdown",
      "source": [
        "16. What is the purpose of the else block in exception handling?\n",
        "\n",
        "**ANSWER:** The else block in exception handling is used to execute a block of code only if no exceptions were raised in the preceding try block. It provides a clean way to separate code that might cause an exception from code that should run only when everything goes smoothly.\n",
        "\n",
        "* How it Works:\n",
        "\n",
        "The structure of a try...except...else block is as follows:\n",
        "\n",
        "i. try: This block contains the code that you want to monitor for exceptions.\n",
        "\n",
        "ii. except: This block catches and handles specific exceptions that might occur in the try block.\n",
        "\n",
        "iii. else: This block is optional and executes only if the try block completes successfully without any exceptions. If an exception occurs, the except block is executed, and the else block is completely skipped."
      ],
      "metadata": {
        "id": "Y3gXbUyLl1t-"
      }
    },
    {
      "cell_type": "markdown",
      "source": [
        "17. What are the common logging levels in Python?\n",
        "\n",
        "**ANSWER:** In Python's built-in logging module, the common logging levels are used to categorize the severity of messages. These levels, in increasing order of severity, are DEBUG, INFO, WARNING, ERROR, and CRITICAL.\n",
        "\n",
        "* DEBUG:\n",
        "\n",
        "The DEBUG level is for detailed information, typically of interest only when diagnosing problems. It provides granular details about the program's operation, such as the value of variables at specific points or the flow of execution. It's often used by developers during the development phase.\n",
        "\n",
        "* INFO:\n",
        "\n",
        "The INFO level is for general, high-level information about the program's operation. This is a confirmation that things are working as expected. These messages are typically useful for users or system administrators to understand what the application is doing.\n",
        "\n",
        "* WARNING:\n",
        "\n",
        "The WARNING level indicates that something unexpected happened, or is about to happen, but the program can still continue. This might be a sign of a potential problem in the future, but it doesn't prevent the application from running. Examples include a deprecated feature being used or a configuration file not being found.\n",
        "\n",
        "*  ERROR:\n",
        "\n",
        "The ERROR level indicates a serious problem. The program could not perform some function. It signals a failure that prevents a specific operation from completing, but the overall application may still be able to run. An example would be a failed database connection.\n",
        "\n",
        "* CRITICAL:\n",
        "\n",
        "The CRITICAL level indicates a very serious error. The program might be unable to continue running at all. This is the highest level of severity and often signifies a fatal error that requires immediate attention, such as a full system crash."
      ],
      "metadata": {
        "id": "XylPkfllniGR"
      }
    },
    {
      "cell_type": "markdown",
      "source": [
        "18. What is the difference between os.fork() and multiprocessing in Python?\n",
        "\n",
        "**ANSWER:** The key difference between os.fork() and multiprocessing in Python is that os.fork() is a lower-level, POSIX-specific system call for creating processes, while multiprocessing is a higher-level, cross-platform module that provides a more convenient and robust way to manage processes, including creating, communicating with, and synchronizing them.\n",
        "\n",
        "* os.fork():\n",
        "\n",
        "os.fork() creates a new child process that is an exact copy of the parent process. It's a low-level function that relies on the POSIX (Portable Operating System Interface) standard, which is primarily found on Unix-like systems (Linux, macOS). . When os.fork() is called, the parent process continues execution, and a new child process is created. Both processes execute from the point of the fork() call. The os.fork() function returns 0 in the child process and the process ID (PID) of the child in the parent process. This mechanism gives developers fine-grained control but requires manual management of process communication and synchronization, which can be complex and error-prone. Because os.fork() is not available on Windows, code using it is not portable.\n",
        "\n",
        "* multiprocessing:\n",
        "\n",
        "The multiprocessing module offers a high-level, object-oriented API for managing processes. It was introduced to overcome the limitations of os.fork() and is a cross-platform solution, meaning it works on Windows, macOS, and Linux. Instead of relying on a raw system call, multiprocessing provides classes like Process, Pool, and Queue to handle the complexities of process creation, inter-process communication (IPC), and synchronization. . For example, multiprocessing.Process creates a new process by wrapping the system's process creation mechanism, which might be os.fork() on Unix-like systems or a different method on Windows. This abstraction makes it much easier to write concurrent code that is both clean and portable. The module also handles the details of passing data between processes and managing shared resources, significantly simplifying development."
      ],
      "metadata": {
        "id": "kTC5wPc5oSWY"
      }
    },
    {
      "cell_type": "markdown",
      "source": [
        "19. What is the importance of closing a file in Python?\n",
        "\n",
        "**ANSWER:** Closing a file in Python is crucial for several reasons, primarily to ensure data integrity and free up system resources. It's an essential part of responsible file handling.\n",
        "\n",
        "* Importance of Closing Files:\n",
        "\n",
        "i. Data Integrity: When you write to a file, the data is often buffered in memory before being physically written to the disk. If a program terminates unexpectedly or the file isn't closed properly, the buffered data may never be written, leading to a corrupt or incomplete file. Calling the .close() method forces the buffer to be flushed, ensuring all data is saved.\n",
        "\n",
        "ii. Resource Management: The operating system has a limit on the number of files a process can have open simultaneously. Leaving files open consumes these resources. By closing a file, you release the file handle, making that resource available for other processes or for your program to open other files. Forgetting to close files can lead to a Too many open files error, causing your program to crash.\n",
        "\n",
        "iii. Releasing Locks: On some operating systems, opening a file may place a lock on it, preventing other programs or processes from accessing or modifying it. Closing the file releases this lock, allowing other parts of your program or other applications to interact with it."
      ],
      "metadata": {
        "id": "V6nvRqmBou4Z"
      }
    },
    {
      "cell_type": "markdown",
      "source": [
        "20. What is the difference between file.read() and file.readline() in Python?\n",
        "\n",
        "**ANSWER:** In Python, both file.read() and file.readline() are methods used to read data from a file object, but they differ in how much data they read.\n",
        "\n",
        "* file.read():\n",
        "\n",
        "The file.read() method reads the entire content of the file from its current position and returns it as a single string. You can also specify an optional argument, size, which tells it to read only a certain number of characters or bytes. If the size is not provided, it reads the entire file"
      ],
      "metadata": {
        "id": "AaS5KHtBpI_I"
      }
    },
    {
      "cell_type": "markdown",
      "source": [
        "* file.readline():\n",
        "\n",
        "The file.readline() method reads a single line from the file, up to and including the newline character (\\n). It returns the line as a string. Each subsequent call to file.readline() moves the file's cursor to the next line."
      ],
      "metadata": {
        "id": "pIyydryMpo76"
      }
    },
    {
      "cell_type": "markdown",
      "source": [
        "21.  What is the logging module in Python used for?\n",
        "\n",
        "**ANSWER:** The logging module in Python is used for tracking events that happen when a program runs. It provides a standard, flexible framework for emitting log messages from applications and libraries, which can be useful for debugging, auditing, and monitoring.\n",
        "\n",
        "* How It Works:\n",
        "\n",
        "The logging module is based on a hierarchy of loggers, which are objects that expose the main API for emitting log messages. Each logger has a name and a level, which determines the severity of messages it will handle. The five standard logging levels, from least to most severe, are:\n",
        "\n",
        "i. DEBUG: Detailed information, typically of interest only when diagnosing problems.\n",
        "\n",
        "ii. INFO: Confirmation that things are working as expected.\n",
        "\n",
        "iii. WARNING: An indication that something unexpected happened, or a potential problem in the near future.\n",
        "\n",
        "iv. ERROR: Due to a more serious problem, the software has not been able to perform some function.\n",
        "\n",
        "v. CRITICAL: A serious error, indicating that the program itself may be unable to continue running.\n",
        "\n",
        "When you create a log message, it's processed by the logger, which then passes it to handlers. Handlers are objects that send the log messages to their destination. A few common types of handlers are:\n",
        "\n",
        "- StreamHandler: Sends messages to streams like sys.stdout (the console).\n",
        "\n",
        "- FileHandler: Writes messages to a disk file.\n",
        "\n",
        "- RotatingFileHandler: Writes messages to a file that automatically rotates after a certain size, creating new log files.\n",
        "\n",
        "Handlers can also have their own logging levels, which means a handler may filter out messages that are below its level, even if the logger has accepted them."
      ],
      "metadata": {
        "id": "5W3g-DWVp4BP"
      }
    },
    {
      "cell_type": "markdown",
      "source": [
        "22. What is the os module in Python used for in file handling?\n",
        "\n",
        "**ANSWER:** The os module in Python is used for interacting with the operating system, and in the context of file handling, it provides a portable way to perform operations that involve the file system. While Python's built-in functions like open() are great for reading and writing files, the os module handles tasks related to managing files and directories themselves.\n",
        "\n",
        "* Key Uses in File Handling:\n",
        "\n",
        "The os module provides a wide array of functions for file system operations, allowing you to manage files and directories without needing to write platform-specific code. This is because the module's functions abstract away the differences between operating systems like Windows, macOS, and Linux.\n",
        "\n",
        "Some of the most common file handling tasks you can perform with the os module include:\n",
        "\n",
        "I. Path Manipulation: You can join path components (os.path.join()), get the directory name from a path (os.path.dirname()), or get the base filename (os.path.basename()). These functions are critical for building file paths in a way that works on any operating system.\n",
        "\n",
        "II. Checking Existence and Type: The module allows you to check if a file or directory exists (os.path.exists()), if a path is a file (os.path.isfile()), or if it's a directory (os.path.isdir()). This is useful for preventing errors before attempting to access a file.\n",
        "\n",
        "III. Renaming and Deleting: You can rename a file or directory with os.rename() and delete a file with os.remove() (or os.unlink()). To remove an empty directory, you'd use os.rmdir().\n",
        "\n",
        "IV. Directory Management: The os module is essential for working with directories. You can create a single directory with os.mkdir() or create a full directory tree (including parent directories) with os.makedirs(). You can also change the current working directory using os.chdir().\n",
        "\n",
        "V. Listing Contents: The os.listdir() function returns a list of all files and directories within a specified path. This is a fundamental operation for navigating and processing files in a directory.\n",
        "\n",
        "In summary, while the open() function handles the content of a file, the os module manages the container—the file or directory itself—on the file system."
      ],
      "metadata": {
        "id": "n-OvnNCBxezC"
      }
    },
    {
      "cell_type": "markdown",
      "source": [
        "23. What are the challenges associated with memory management in Python?\n",
        "\n",
        "**ANSWER:** Memory management in Python is handled automatically by the interpreter, but this process isn't without its challenges. The primary issues stem from Python's automatic garbage collection, which can be inefficient or lead to unexpected behavior in certain scenarios.\n",
        "\n",
        "* Memory Leaks:\n",
        "A memory leak occurs when memory that is no longer needed isn't released. In Python, this can happen due to circular references. When objects refer to each other in a cycle, the reference count of each object may never drop to zero. Although Python's garbage collector is designed to detect and break these cycles, it isn't always perfect, particularly in older Python versions or when dealing with complex data structures. This can lead to a gradual increase in memory usage over time, eventually impacting performance and stability.\n",
        "\n",
        "\n",
        "* Memory Fragmentation:\n",
        "Memory fragmentation happens when available memory is broken into many small, non-contiguous blocks. When a new object needs to be allocated, the interpreter might not find a large enough contiguous block, even if the total available memory is sufficient. This can lead to increased memory usage and slower allocation times. Python's memory allocator tries to mitigate this, but it's still a challenge, especially in long-running applications that frequently allocate and de-allocate objects of various sizes.\n",
        "\n",
        "* High Memory Usage:\n",
        "Python objects, especially small ones, often have a significant memory overhead. For example, a Python integer or string object uses more memory than a C-language integer or character array due to the additional information stored with the object (like its type, size, and reference count). This can lead to high memory usage in applications that handle a large number of small objects. Developers might need to use more memory-efficient data structures or libraries like NumPy to handle large datasets effectively.\n",
        "\n",
        "* Garbage Collection Overhead:\n",
        "Python's garbage collection is a process that periodically runs to reclaim memory. This process, while necessary, can introduce performance overhead as it pauses the program's execution to analyze and collect unreferenced objects. In applications with strict real-time requirements, these pauses can be unpredictable and disruptive. Developers may need to tune garbage collection parameters or use different memory management strategies to minimize this overhead."
      ],
      "metadata": {
        "id": "NuVxV9bszlNL"
      }
    },
    {
      "cell_type": "markdown",
      "source": [
        "24. How do you raise an exception manually in Python?\n",
        "\n",
        "**ANSWER:** You can raise an exception manually in Python using the raise statement. This is useful for signaling that an error or an exceptional condition has occurred during your program's execution.\n",
        "\n",
        "* Syntax and Usage:\n",
        "\n",
        "The basic syntax for raising an exception is:\n",
        "\n",
        "* Here's how it works:\n",
        "\n",
        "i. raise: This is the keyword that triggers the exception.\n",
        "\n",
        "ii. <ExceptionType>: This is the class of the exception you want to raise (e.g., ValueError, TypeError, NameError). Python has many built-in exceptions, but you can also define your own custom exception classes.\n",
        "\n",
        "iii. \"Optional error message\": This is a string that provides a more specific and helpful message about what went wrong. This message is what users will see when the exception is not handled."
      ],
      "metadata": {
        "id": "odhVyzdO2NDS"
      }
    },
    {
      "cell_type": "markdown",
      "source": [
        "25.  Why is it important to use multithreading in certain applications?\n",
        "\n",
        "**ANSWER:** Using multithreading is important in certain applications to improve responsiveness and performance. It achieves this by allowing a program to execute multiple tasks concurrently.\n",
        "\n",
        "* How Multithreading Works:\n",
        "\n",
        "A thread is the smallest unit of execution within a process. A single-threaded application executes tasks one after another in a single sequence. In contrast, a multithreaded application can have multiple threads running simultaneously within the same process. This means that while one thread is waiting for an operation to complete (like a file to load or a network request to return), another thread can be actively performing a different task.\n",
        "\n",
        "* Key Benefits of Multithreading:\n",
        "\n",
        "I. Improved Responsiveness: Multithreading prevents an application from freezing or becoming unresponsive. For example, in a graphical user interface (GUI) application, a dedicated \"UI thread\" can remain active and responsive to user input while other \"worker threads\" handle long-running operations in the background. Without multithreading, a slow task would block the UI thread, causing the entire application to appear frozen.\n",
        "\n",
        "II. Enhanced Performance: By distributing tasks across multiple processor cores, multithreading can significantly speed up applications that involve heavy computation. For instance, a program that needs to process a large dataset can split the data into chunks and have multiple threads process each chunk in parallel, reducing the total time required.\n",
        "\n",
        "III. Better Resource Utilization: Multithreading helps an application make more efficient use of available hardware resources, especially on modern multi-core CPUs. Instead of leaving cores idle while one thread waits, multithreading ensures that the CPU is always busy doing work.\n",
        "\n",
        "* When to Use Multithreading:\n",
        "\n",
        "i. Multithreading is particularly useful for applications with asynchronous or computationally intensive tasks, such as:\n",
        "\n",
        "ii. GUI Applications: To keep the user interface fluid and responsive during background operations.\n",
        "\n",
        "iii. Web Servers: To handle multiple client requests simultaneously, preventing a single slow request from blocking others.\n",
        "\n",
        "iv. Scientific and Engineering Software: For parallelizing complex calculations and simulations.\n",
        "\n",
        "v. Gaming: To manage tasks like rendering graphics, handling physics, and processing user input concurrently."
      ],
      "metadata": {
        "id": "ARnZizyR3WTh"
      }
    },
    {
      "cell_type": "markdown",
      "source": [
        "# Practical Questions:"
      ],
      "metadata": {
        "id": "98ecwc6uHyr9"
      }
    },
    {
      "cell_type": "markdown",
      "source": [
        "1.  How can you open a file for writing in Python and write a string to it?"
      ],
      "metadata": {
        "id": "-1LlvFFMH2fJ"
      }
    },
    {
      "cell_type": "code",
      "source": [
        "# Open the file in write mode ('w')\n",
        "with open('message.txt', 'w') as file:\n",
        "    # Write the string to the file\n",
        "    file.write(\"Hello, world!\")\n",
        "\n",
        "# The file is automatically closed after the 'with' block\n",
        "# You can verify the content by reading it\n",
        "with open('message.txt', 'r') as file:\n",
        "    content = file.read()\n",
        "    print(content)"
      ],
      "metadata": {
        "colab": {
          "base_uri": "https://localhost:8080/"
        },
        "id": "3ZEZVU8mIBh2",
        "outputId": "1470fb18-6d1a-4da1-8f84-0ed55700e689"
      },
      "execution_count": null,
      "outputs": [
        {
          "output_type": "stream",
          "name": "stdout",
          "text": [
            "Hello, world!\n"
          ]
        }
      ]
    },
    {
      "cell_type": "markdown",
      "source": [
        "2. Write a Python program to read the contents of a file and print each line."
      ],
      "metadata": {
        "id": "vXUST-WlIDwR"
      }
    },
    {
      "cell_type": "code",
      "source": [
        "def read_and_print_file(filename):\n",
        "    \"\"\"\n",
        "    Reads a text file line by line and prints each line to the console.\n",
        "\n",
        "    Args:\n",
        "        filename (str): The path to the file to be read.\n",
        "    \"\"\"\n",
        "    try:\n",
        "        # Use 'with' statement to ensure the file is automatically closed.\n",
        "        with open(filename, 'r') as file:\n",
        "            print(f\"--- Contents of '{filename}' ---\")\n",
        "            for line in file:\n",
        "                # The 'end' parameter prevents the print function from adding\n",
        "                # an extra newline, as the lines from the file already\n",
        "                # include a newline character.\n",
        "                print(line, end='')\n",
        "            print(\"\\n-----------------------------\")\n",
        "\n",
        "    except FileNotFoundError:\n",
        "        # Handle the case where the specified file does not exist.\n",
        "        print(f\"Error: The file '{filename}' was not found.\")\n",
        "    except Exception as e:\n",
        "        # Handle any other potential errors.\n",
        "        print(f\"An error occurred: {e}\")\n",
        "\n",
        "# --- Example Usage ---\n",
        "\n",
        "# First, let's create a dummy file to read from.\n",
        "# In a real-world scenario, this file would already exist.\n",
        "dummy_filename = \"example.txt\"\n",
        "try:\n",
        "    with open(dummy_filename, 'w') as f:\n",
        "        f.write(\"This is the first line.\\n\")\n",
        "        f.write(\"This is the second line.\\n\")\n",
        "        f.write(\"This is the third line.\\n\")\n",
        "    print(f\"Successfully created a dummy file named '{dummy_filename}'.\")\n",
        "except Exception as e:\n",
        "    print(f\"Failed to create dummy file: {e}\")\n",
        "\n",
        "# Now, call the function to read the file we just created.\n",
        "read_and_print_file(dummy_filename)\n",
        "\n",
        "# You can also test the error handling by trying to read a non-existent file.\n",
        "# Uncomment the line below to test it.\n",
        "# read_and_print_file(\"non_existent_file.txt\")"
      ],
      "metadata": {
        "colab": {
          "base_uri": "https://localhost:8080/"
        },
        "id": "GhWFHh1VIGud",
        "outputId": "41ff03e8-07b8-4f71-c845-152910784ada"
      },
      "execution_count": null,
      "outputs": [
        {
          "output_type": "stream",
          "name": "stdout",
          "text": [
            "Successfully created a dummy file named 'example.txt'.\n",
            "--- Contents of 'example.txt' ---\n",
            "This is the first line.\n",
            "This is the second line.\n",
            "This is the third line.\n",
            "\n",
            "-----------------------------\n"
          ]
        }
      ]
    },
    {
      "cell_type": "markdown",
      "source": [
        "3. How would you handle a case where the file doesn't exist while trying to open it for reading?"
      ],
      "metadata": {
        "id": "zhsJW0M6IWzW"
      }
    },
    {
      "cell_type": "code",
      "source": [
        "import os\n",
        "\n",
        "file_name = \"example.txt\"\n",
        "\n",
        "# Check if the file exists using the os module\n",
        "if os.path.exists(file_name):\n",
        "    print(f\"File '{file_name}' found. Opening for reading...\")\n",
        "    with open(file_name, 'r') as file:\n",
        "        content = file.read()\n",
        "        print(content)\n",
        "else:\n",
        "    print(f\"Error: The file '{file_name}' does not exist.\")"
      ],
      "metadata": {
        "colab": {
          "base_uri": "https://localhost:8080/"
        },
        "id": "cc8vNnyNIZ0w",
        "outputId": "18304836-a336-4252-9813-01b729e62401"
      },
      "execution_count": null,
      "outputs": [
        {
          "output_type": "stream",
          "name": "stdout",
          "text": [
            "File 'example.txt' found. Opening for reading...\n",
            "This is the first line.\n",
            "This is the second line.\n",
            "This is the third line.\n",
            "\n"
          ]
        }
      ]
    },
    {
      "cell_type": "markdown",
      "source": [
        "4. Write a Python script that reads from one file and writes its content to another file."
      ],
      "metadata": {
        "id": "ZdwsPDrQI7m9"
      }
    },
    {
      "cell_type": "code",
      "source": [
        "import os\n",
        "\n",
        "def copy_file(source_path: str, destination_path: str):\n",
        "    \"\"\"\n",
        "    Reads the content of a file from a source path and writes it to a\n",
        "    new file at a destination path.\n",
        "\n",
        "    Args:\n",
        "        source_path (str): The path to the file to be read.\n",
        "        destination_path (str): The path where the new file will be written.\n",
        "    \"\"\"\n",
        "    try:\n",
        "        # Open the source file in read mode ('r')\n",
        "        with open(source_path, 'r') as source_file:\n",
        "            # Read all content from the source file\n",
        "            content = source_file.read()\n",
        "\n",
        "        # Open the destination file in write mode ('w'). This will create the file\n",
        "        # if it doesn't exist, or overwrite it if it does.\n",
        "        with open(destination_path, 'w') as destination_file:\n",
        "            # Write the content to the new file\n",
        "            destination_file.write(content)\n",
        "\n",
        "        print(f\"Successfully copied content from '{source_path}' to '{destination_path}'.\")\n",
        "\n",
        "    except FileNotFoundError:\n",
        "        print(f\"Error: The file '{source_path}' was not found.\")\n",
        "    except Exception as e:\n",
        "        print(f\"An unexpected error occurred: {e}\")\n",
        "\n",
        "if __name__ == \"__main__\":\n",
        "    # Example usage:\n",
        "    # 1. Create a dummy source file for the demonstration\n",
        "    source_file_name = \"source.txt\"\n",
        "    with open(source_file_name, 'w') as f:\n",
        "        f.write(\"This is the content of the source file.\\n\")\n",
        "        f.write(\"It will be copied to the destination file.\")\n",
        "\n",
        "    # 2. Define the path for the destination file\n",
        "    destination_file_name = \"destination.txt\"\n",
        "\n",
        "    # 3. Call the function to copy the file\n",
        "    copy_file(source_file_name, destination_file_name)\n",
        "\n",
        "    # 4. Optional: Verify the content of the new file\n",
        "    if os.path.exists(destination_file_name):\n",
        "        print(\"\\nVerifying the content of the new file:\")\n",
        "        with open(destination_file_name, 'r') as f:\n",
        "            print(f.read())\n",
        "\n",
        "    # 5. Clean up the dummy files\n",
        "    # os.remove(source_file_name)\n",
        "    # os.remove(destination_file_name)"
      ],
      "metadata": {
        "colab": {
          "base_uri": "https://localhost:8080/"
        },
        "id": "tuX9daifI_cD",
        "outputId": "772b12cc-e5c5-4dc5-e876-dec6ff87a927"
      },
      "execution_count": null,
      "outputs": [
        {
          "output_type": "stream",
          "name": "stdout",
          "text": [
            "Successfully copied content from 'source.txt' to 'destination.txt'.\n",
            "\n",
            "Verifying the content of the new file:\n",
            "This is the content of the source file.\n",
            "It will be copied to the destination file.\n"
          ]
        }
      ]
    },
    {
      "cell_type": "markdown",
      "source": [
        "5. How would you catch and handle division by zero error in Python?"
      ],
      "metadata": {
        "id": "pR_qmuCcJQv5"
      }
    },
    {
      "cell_type": "code",
      "source": [
        "# A simple function to demonstrate division\n",
        "def safe_divide(numerator, denominator):\n",
        "    try:\n",
        "        # Attempt the division\n",
        "        result = numerator / denominator\n",
        "        print(f\"The result is: {result}\")\n",
        "    except ZeroDivisionError:\n",
        "        # Handle the specific division by zero error\n",
        "        print(\"Error: You can't divide by zero!\")\n",
        "    except TypeError:\n",
        "        # Handle cases where inputs aren't numbers\n",
        "        print(\"Error: Please provide valid numbers.\")\n",
        "\n",
        "# Example 1: Successful division\n",
        "safe_divide(10, 2)\n",
        "\n",
        "# Example 2: Division by zero\n",
        "safe_divide(10, 0)"
      ],
      "metadata": {
        "colab": {
          "base_uri": "https://localhost:8080/"
        },
        "id": "ut5Fm3SpJR3n",
        "outputId": "ea9dfbbe-00a8-4b17-ca79-121d19338506"
      },
      "execution_count": null,
      "outputs": [
        {
          "output_type": "stream",
          "name": "stdout",
          "text": [
            "The result is: 5.0\n",
            "Error: You can't divide by zero!\n"
          ]
        }
      ]
    },
    {
      "cell_type": "markdown",
      "source": [
        "6.  Write a Python program that logs an error message to a log file when a division by zero exception occurs."
      ],
      "metadata": {
        "id": "TtDtRi_CJfd1"
      }
    },
    {
      "cell_type": "code",
      "source": [
        "import logging\n",
        "import os\n",
        "\n",
        "# --- Logger Setup ---\n",
        "def setup_logger(log_file='division_errors.log'):\n",
        "    \"\"\"\n",
        "    Sets up a logger to write error messages to a file.\n",
        "\n",
        "    Args:\n",
        "        log_file (str): The name of the log file.\n",
        "    \"\"\"\n",
        "    # Create a logger instance\n",
        "    logger = logging.getLogger('division_error_logger')\n",
        "    logger.setLevel(logging.ERROR)\n",
        "\n",
        "    # Check if a file handler already exists to avoid duplication\n",
        "    if not logger.handlers:\n",
        "        # Create a file handler to write logs to a file\n",
        "        file_handler = logging.FileHandler(log_file)\n",
        "        file_handler.setLevel(logging.ERROR)\n",
        "\n",
        "        # Create a formatter for the log messages\n",
        "        formatter = logging.Formatter('%(asctime)s - %(name)s - %(levelname)s - %(message)s')\n",
        "        file_handler.setFormatter(formatter)\n",
        "\n",
        "        # Add the file handler to the logger\n",
        "        logger.addHandler(file_handler)\n",
        "\n",
        "    return logger\n",
        "\n",
        "# --- Division Function ---\n",
        "def divide_numbers(numerator, denominator):\n",
        "    \"\"\"\n",
        "    Divides two numbers and handles a division by zero exception,\n",
        "    logging the error if it occurs.\n",
        "\n",
        "    Args:\n",
        "        numerator (float): The number to be divided.\n",
        "        denominator (float): The number to divide by.\n",
        "\n",
        "    Returns:\n",
        "        float: The result of the division, or None if an error occurred.\n",
        "    \"\"\"\n",
        "    # Get the logger instance\n",
        "    logger = setup_logger()\n",
        "\n",
        "    try:\n",
        "        result = numerator / denominator\n",
        "        print(f\"The result of the division is: {result}\")\n",
        "        return result\n",
        "    except ZeroDivisionError:\n",
        "        error_message = f\"Attempted to divide {numerator} by zero.\"\n",
        "        print(f\"Error: {error_message}\")\n",
        "        # Log the exception with a detailed traceback\n",
        "        logger.error(error_message, exc_info=True)\n",
        "        return None\n",
        "\n",
        "# --- Main Execution Block ---\n",
        "if __name__ == \"__main__\":\n",
        "    # Example 1: Successful division\n",
        "    divide_numbers(10, 2)\n",
        "\n",
        "    # Example 2: Division by zero, which will be logged\n",
        "    divide_numbers(5, 0)\n",
        "\n",
        "    # You can check the 'division_errors.log' file in the same directory\n",
        "    # after running the program to see the logged error.\n",
        "    log_file_path = \"division_errors.log\"\n",
        "    if os.path.exists(log_file_path):\n",
        "        print(\"\\nLog file created. You can check it to see the error details.\")"
      ],
      "metadata": {
        "colab": {
          "base_uri": "https://localhost:8080/"
        },
        "id": "EDWb7yQFKIQh",
        "outputId": "e3d22870-1359-42e6-ad7c-518bc60f42cf"
      },
      "execution_count": null,
      "outputs": [
        {
          "output_type": "stream",
          "name": "stderr",
          "text": [
            "ERROR:division_error_logger:Attempted to divide 5 by zero.\n",
            "Traceback (most recent call last):\n",
            "  File \"/tmp/ipython-input-1380477172.py\", line 48, in divide_numbers\n",
            "    result = numerator / denominator\n",
            "             ~~~~~~~~~~^~~~~~~~~~~~~\n",
            "ZeroDivisionError: division by zero\n"
          ]
        },
        {
          "output_type": "stream",
          "name": "stdout",
          "text": [
            "The result of the division is: 5.0\n",
            "Error: Attempted to divide 5 by zero.\n",
            "\n",
            "Log file created. You can check it to see the error details.\n"
          ]
        }
      ]
    },
    {
      "cell_type": "markdown",
      "source": [
        "7. How do you log information at different levels (INFO, ERROR, WARNING) in Python using the logging module?"
      ],
      "metadata": {
        "id": "yptTOqQGKP8G"
      }
    },
    {
      "cell_type": "code",
      "source": [
        "import logging\n",
        "\n",
        "# Basic configuration\n",
        "logging.basicConfig(level=logging.INFO)\n",
        "\n",
        "# Log a message at the INFO level\n",
        "logging.info(\"This is an informational message.\")\n",
        "\n",
        "# Log a message at the WARNING level\n",
        "logging.warning(\"This is a warning message.\")\n",
        "\n",
        "# Log a message at the ERROR level\n",
        "logging.error(\"This is an error message.\")\n",
        "\n",
        "# The DEBUG level won't be displayed unless the level is set to DEBUG\n",
        "logging.debug(\"This message will not be shown by default.\")"
      ],
      "metadata": {
        "colab": {
          "base_uri": "https://localhost:8080/"
        },
        "id": "rfwOBPEnKT7B",
        "outputId": "ff6780da-cfa7-4299-afa6-544a32c3197d"
      },
      "execution_count": null,
      "outputs": [
        {
          "output_type": "stream",
          "name": "stderr",
          "text": [
            "WARNING:root:This is a warning message.\n",
            "ERROR:root:This is an error message.\n"
          ]
        }
      ]
    },
    {
      "cell_type": "markdown",
      "source": [
        "8. Write a program to handle a file opening error using exception handling."
      ],
      "metadata": {
        "id": "_bbTSWo7KeAL"
      }
    },
    {
      "cell_type": "code",
      "source": [
        "import os\n",
        "\n",
        "# Define the file name we will try to open.\n",
        "# The file 'non_existent_file.txt' does not exist, so this will cause an error.\n",
        "file_name = \"non_existent_file.txt\"\n",
        "file_object = None\n",
        "\n",
        "try:\n",
        "    # The 'try' block contains the code that might raise an exception.\n",
        "    print(f\"Attempting to open the file: '{file_name}'\")\n",
        "\n",
        "    # We open the file in read mode ('r'). This line will fail because the file doesn't exist.\n",
        "    file_object = open(file_name, 'r')\n",
        "\n",
        "    # This line will not be reached if the file opening fails.\n",
        "    print(\"File opened successfully.\")\n",
        "\n",
        "    # Read the content of the file.\n",
        "    content = file_object.read()\n",
        "    print(\"File content:\")\n",
        "    print(content)\n",
        "\n",
        "except FileNotFoundError:\n",
        "    # The 'except' block catches the specific exception that was raised.\n",
        "    # In this case, it catches 'FileNotFoundError' and provides a user-friendly message.\n",
        "    print(f\"Error: The file '{file_name}' was not found.\")\n",
        "    print(\"Please make sure the file exists in the correct directory.\")\n",
        "\n",
        "except Exception as e:\n",
        "    # A generic 'except' block can catch any other unexpected errors.\n",
        "    print(f\"An unexpected error occurred: {e}\")\n",
        "\n",
        "finally:\n",
        "    # The 'finally' block always executes, whether an exception occurred or not.\n",
        "    # This is useful for cleanup operations, like ensuring a file is closed.\n",
        "    if file_object:\n",
        "        print(\"Closing the file.\")\n",
        "        file_object.close()\n",
        "\n",
        "# The program continues to run after the exception is handled.\n",
        "print(\"\\nProgram finished execution.\")"
      ],
      "metadata": {
        "colab": {
          "base_uri": "https://localhost:8080/"
        },
        "id": "jFTtSifSKhCA",
        "outputId": "37a82d70-7d33-4902-e73f-ed2b5b885970"
      },
      "execution_count": null,
      "outputs": [
        {
          "output_type": "stream",
          "name": "stdout",
          "text": [
            "Attempting to open the file: 'non_existent_file.txt'\n",
            "Error: The file 'non_existent_file.txt' was not found.\n",
            "Please make sure the file exists in the correct directory.\n",
            "\n",
            "Program finished execution.\n"
          ]
        }
      ]
    },
    {
      "cell_type": "markdown",
      "source": [
        "9. How can you read a file line by line and store its content in a list in Python?"
      ],
      "metadata": {
        "id": "-6KtFOw-KreI"
      }
    },
    {
      "cell_type": "code",
      "source": [
        "import os\n",
        "\n",
        "def create_sample_file(filename=\"sample_text.txt\"):\n",
        "    \"\"\"\n",
        "    Creates a simple text file to demonstrate the reading process.\n",
        "    \"\"\"\n",
        "    with open(filename, 'w') as f:\n",
        "        f.write(\"First line of text.\\n\")\n",
        "        f.write(\"Second line is here.\\n\")\n",
        "        f.write(\"And the final line.\\n\")\n",
        "    print(f\"Created '{filename}' for demonstration.\")\n",
        "\n",
        "def read_file_into_list(filename=\"sample_text.txt\"):\n",
        "    \"\"\"\n",
        "    Reads a file line by line and stores each line as an item in a list.\n",
        "    The newline characters are stripped for cleaner output.\n",
        "\n",
        "    Args:\n",
        "        filename (str): The name of the file to read.\n",
        "\n",
        "    Returns:\n",
        "        list: A list containing each line of the file.\n",
        "    \"\"\"\n",
        "    lines = []\n",
        "\n",
        "    # Check if the file exists before trying to read it\n",
        "    if not os.path.exists(filename):\n",
        "        print(f\"Error: The file '{filename}' does not exist.\")\n",
        "        return lines\n",
        "\n",
        "    # Use a 'with' statement to ensure the file is closed automatically\n",
        "    with open(filename, 'r') as file:\n",
        "        # Iterate over the file object, which reads it line by line\n",
        "        for line in file:\n",
        "            # Strip whitespace, including the newline character at the end\n",
        "            lines.append(line.strip())\n",
        "\n",
        "    return lines\n",
        "\n",
        "if __name__ == \"__main__\":\n",
        "    # Create the file first so the script is self-contained\n",
        "    create_sample_file()\n",
        "\n",
        "    # Read the contents of the created file into a list\n",
        "    file_lines = read_file_into_list()\n",
        "\n",
        "    # Print the resulting list\n",
        "    print(\"\\nFile contents stored in a list:\")\n",
        "    print(file_lines)\n",
        "\n",
        "    # Clean up the sample file\n",
        "    os.remove(\"sample_text.txt\")\n",
        "    print(\"\\nSample file has been removed.\")"
      ],
      "metadata": {
        "colab": {
          "base_uri": "https://localhost:8080/"
        },
        "id": "JQgJA1eJLArD",
        "outputId": "82a62c98-6615-4020-eead-eb9b93f961a0"
      },
      "execution_count": null,
      "outputs": [
        {
          "output_type": "stream",
          "name": "stdout",
          "text": [
            "Created 'sample_text.txt' for demonstration.\n",
            "\n",
            "File contents stored in a list:\n",
            "['First line of text.', 'Second line is here.', 'And the final line.']\n",
            "\n",
            "Sample file has been removed.\n"
          ]
        }
      ]
    },
    {
      "cell_type": "markdown",
      "source": [
        "10.  How can you append data to an existing file in Python?"
      ],
      "metadata": {
        "id": "tnWuPjvJLrv_"
      }
    },
    {
      "cell_type": "code",
      "source": [
        "def append_to_file(filename, new_data):\n",
        "    \"\"\"\n",
        "    Appends the given data to a file.\n",
        "\n",
        "    Args:\n",
        "        filename (str): The name of the file to append to.\n",
        "        new_data (str): The data to append.\n",
        "    \"\"\"\n",
        "    # Using 'a' mode opens the file for appending.\n",
        "    # The file pointer is automatically placed at the end of the file.\n",
        "    # If the file does not exist, it will be created.\n",
        "    with open(filename, 'a') as f:\n",
        "        f.write(new_data)\n",
        "    print(f\"Appended data to '{filename}' successfully.\")\n",
        "\n",
        "def read_file(filename):\n",
        "    \"\"\"\n",
        "    Reads and prints the entire content of a file.\n",
        "\n",
        "    Args:\n",
        "        filename (str): The name of the file to read.\n",
        "    \"\"\"\n",
        "    try:\n",
        "        with open(filename, 'r') as f:\n",
        "            content = f.read()\n",
        "            print(f\"\\n--- Content of '{filename}' ---\")\n",
        "            print(content)\n",
        "            print(\"-----------------------------------\")\n",
        "    except FileNotFoundError:\n",
        "        print(f\"Error: The file '{filename}' was not found.\")\n",
        "\n",
        "if __name__ == \"__main__\":\n",
        "    file_to_modify = 'my_notes.txt'\n",
        "\n",
        "    # --- Step 1: Create a file and write initial data using 'w' (write) mode ---\n",
        "    # This overwrites the file if it already exists.\n",
        "    initial_content = \"This is the first line of my notes.\\n\"\n",
        "    with open(file_to_modify, 'w') as f:\n",
        "        f.write(initial_content)\n",
        "    print(f\"Created '{file_to_modify}' with initial content.\")\n",
        "\n",
        "    # --- Step 2: Append new data using 'a' (append) mode ---\n",
        "    new_content = \"This is a new line of notes appended to the file.\\n\"\n",
        "    append_to_file(file_to_modify, new_content)\n",
        "\n",
        "    # --- Step 3: Read the final content to verify the append operation ---\n",
        "    read_file(file_to_modify)\n",
        "\n",
        "    # Another append operation to show it works multiple times\n",
        "    more_content = \"And this is a third line, appended after the second.\\n\"\n",
        "    append_to_file(file_to_modify, more_content)\n",
        "    read_file(file_to_modify)"
      ],
      "metadata": {
        "colab": {
          "base_uri": "https://localhost:8080/"
        },
        "id": "-b1PzGz9Lu7P",
        "outputId": "074fb1e2-77d8-4570-c6c9-7c9314de8756"
      },
      "execution_count": null,
      "outputs": [
        {
          "output_type": "stream",
          "name": "stdout",
          "text": [
            "Created 'my_notes.txt' with initial content.\n",
            "Appended data to 'my_notes.txt' successfully.\n",
            "\n",
            "--- Content of 'my_notes.txt' ---\n",
            "This is the first line of my notes.\n",
            "This is a new line of notes appended to the file.\n",
            "\n",
            "-----------------------------------\n",
            "Appended data to 'my_notes.txt' successfully.\n",
            "\n",
            "--- Content of 'my_notes.txt' ---\n",
            "This is the first line of my notes.\n",
            "This is a new line of notes appended to the file.\n",
            "And this is a third line, appended after the second.\n",
            "\n",
            "-----------------------------------\n"
          ]
        }
      ]
    },
    {
      "cell_type": "markdown",
      "source": [
        "11.  Write a Python program that uses a try-except block to handle an error when attempting to access a\n",
        "dictionary key that doesn't exist."
      ],
      "metadata": {
        "id": "LFdwdOKgL3fr"
      }
    },
    {
      "cell_type": "code",
      "source": [
        "def get_item_with_error_handling(dictionary, key):\n",
        "    \"\"\"\n",
        "    Attempts to retrieve a value from a dictionary using a try-except block.\n",
        "\n",
        "    Args:\n",
        "        dictionary (dict): The dictionary to search.\n",
        "        key: The key to look for in the dictionary.\n",
        "    \"\"\"\n",
        "    try:\n",
        "        # Attempt to access the value associated with the key.\n",
        "        value = dictionary[key]\n",
        "        print(f\"Success! The value for key '{key}' is: {value}\")\n",
        "    except KeyError:\n",
        "        # This block executes if a KeyError is raised.\n",
        "        print(f\"Error: The key '{key}' was not found in the dictionary.\")\n",
        "    except Exception as e:\n",
        "        # This is a general catch-all for any other potential errors.\n",
        "        print(f\"An unexpected error occurred: {e}\")\n",
        "\n",
        "if __name__ == \"__main__\":\n",
        "    # Define a sample dictionary\n",
        "    my_inventory = {\n",
        "        'apples': 5,\n",
        "        'oranges': 10,\n",
        "        'bananas': 2\n",
        "    }\n",
        "\n",
        "    # Case 1: The key exists in the dictionary.\n",
        "    print(\"--- Attempting to access an existing key ---\")\n",
        "    get_item_with_error_handling(my_inventory, 'apples')\n",
        "\n",
        "    print(\"\\n\" + \"=\"*40 + \"\\n\") # Separator for clarity\n",
        "\n",
        "    # Case 2: The key does not exist in the dictionary.\n",
        "    print(\"--- Attempting to access a non-existent key ---\")\n",
        "    get_item_with_error_handling(my_inventory, 'grapes')"
      ],
      "metadata": {
        "colab": {
          "base_uri": "https://localhost:8080/"
        },
        "id": "WV8PggryL6vf",
        "outputId": "1bffad73-8342-4102-efb3-93b1d26507ae"
      },
      "execution_count": null,
      "outputs": [
        {
          "output_type": "stream",
          "name": "stdout",
          "text": [
            "--- Attempting to access an existing key ---\n",
            "Success! The value for key 'apples' is: 5\n",
            "\n",
            "========================================\n",
            "\n",
            "--- Attempting to access a non-existent key ---\n",
            "Error: The key 'grapes' was not found in the dictionary.\n"
          ]
        }
      ]
    },
    {
      "cell_type": "markdown",
      "source": [
        "12.  Write a program that demonstrates using multiple except blocks to handle different types of exceptions."
      ],
      "metadata": {
        "id": "FJwl07C_MB8d"
      }
    },
    {
      "cell_type": "code",
      "source": [
        "def safe_divide():\n",
        "    \"\"\"\n",
        "    Prompts the user for two numbers and performs division.\n",
        "    It handles specific exceptions for invalid input and division by zero.\n",
        "    \"\"\"\n",
        "    try:\n",
        "        # Prompt the user for input\n",
        "        numerator_str = input(\"Enter the numerator: \")\n",
        "        denominator_str = input(\"Enter the denominator: \")\n",
        "\n",
        "        # Attempt to convert input to integers\n",
        "        numerator = int(numerator_str)\n",
        "        denominator = int(denominator_str)\n",
        "\n",
        "        # Attempt to perform division\n",
        "        result = numerator / denominator\n",
        "\n",
        "    # Specific exception block for a ValueError, which occurs if the input is not a number.\n",
        "    except ValueError:\n",
        "        print(\"Error: Invalid input. Please enter valid integer numbers.\")\n",
        "\n",
        "    # Specific exception block for a ZeroDivisionError.\n",
        "    except ZeroDivisionError:\n",
        "        print(\"Error: Cannot divide by zero. Please enter a non-zero denominator.\")\n",
        "\n",
        "    # A generic exception block to catch any other unforeseen errors.\n",
        "    except Exception as e:\n",
        "        print(f\"An unexpected error occurred: {e}\")\n",
        "\n",
        "    # The 'else' block executes only if the code in the 'try' block runs without any exceptions.\n",
        "    else:\n",
        "        print(f\"\\nDivision successful! The result is: {result}\")\n",
        "\n",
        "    # The 'finally' block always executes, whether an exception occurred or not.\n",
        "    finally:\n",
        "        print(\"--- End of division attempt ---\")\n",
        "\n",
        "\n",
        "# Call the function to run the program\n",
        "print(\"Let's try to divide two numbers. Follow the prompts.\")\n",
        "safe_divide()\n",
        "\n",
        "print(\"\\n--- Let's run a second test with invalid input ---\")\n",
        "safe_divide()\n",
        "\n",
        "print(\"\\n--- Let's run a third test with division by zero ---\")\n",
        "safe_divide()"
      ],
      "metadata": {
        "colab": {
          "base_uri": "https://localhost:8080/"
        },
        "id": "uB3sCmx9MFRG",
        "outputId": "53d35b6f-f4d7-477c-ce61-595c25174038"
      },
      "execution_count": null,
      "outputs": [
        {
          "output_type": "stream",
          "name": "stdout",
          "text": [
            "Let's try to divide two numbers. Follow the prompts.\n",
            "Enter the numerator: 486\n",
            "Enter the denominator: 151\n",
            "\n",
            "Division successful! The result is: 3.218543046357616\n",
            "--- End of division attempt ---\n",
            "\n",
            "--- Let's run a second test with invalid input ---\n",
            "Enter the numerator: 486\n",
            "Enter the denominator: 151\n",
            "\n",
            "Division successful! The result is: 3.218543046357616\n",
            "--- End of division attempt ---\n",
            "\n",
            "--- Let's run a third test with division by zero ---\n",
            "Enter the numerator: 486\n",
            "Enter the denominator: 151\n",
            "\n",
            "Division successful! The result is: 3.218543046357616\n",
            "--- End of division attempt ---\n"
          ]
        }
      ]
    },
    {
      "cell_type": "markdown",
      "source": [
        "13. How would you check if a file exists before attempting to read it in Python?"
      ],
      "metadata": {
        "id": "v1Y8wzJGMgru"
      }
    },
    {
      "cell_type": "code",
      "source": [
        "import os\n",
        "import pathlib\n",
        "\n",
        "# --- Method 1: Using os.path.exists() ---\n",
        "# This is a traditional \"look before you leap\" approach.\n",
        "\n",
        "def check_file_exists_os(file_path):\n",
        "    \"\"\"\n",
        "    Checks if a file exists using os.path.exists() and prints a message.\n",
        "\n",
        "    Args:\n",
        "        file_path (str): The path to the file.\n",
        "    \"\"\"\n",
        "    print(f\"--- Checking for file: '{file_path}' using os.path.exists() ---\")\n",
        "    if os.path.exists(file_path):\n",
        "        print(f\"Success: The file '{file_path}' exists.\")\n",
        "        try:\n",
        "            with open(file_path, 'r') as f:\n",
        "                content = f.read()\n",
        "            print(f\"Content of the file:\\n{content}\")\n",
        "        except IOError:\n",
        "            print(\"Error: Could not read the file even though it exists.\")\n",
        "    else:\n",
        "        print(f\"Failure: The file '{file_path}' does not exist.\")\n",
        "    print(\"-\" * 50)"
      ],
      "metadata": {
        "id": "9qKNiZiwM4LK"
      },
      "execution_count": null,
      "outputs": []
    },
    {
      "cell_type": "markdown",
      "source": [
        "14. Write a program that uses the logging module to log both informational and error messages."
      ],
      "metadata": {
        "id": "k6X9c3N-M7uB"
      }
    },
    {
      "cell_type": "code",
      "source": [
        "import logging\n",
        "\n",
        "# Configure the logging system\n",
        "# This sets up the logger to output to a file named 'app.log'\n",
        "# The level is set to INFO, which means it will capture INFO, WARNING, ERROR, and CRITICAL messages.\n",
        "logging.basicConfig(\n",
        "    level=logging.INFO,\n",
        "    format='%(asctime)s - %(levelname)s - %(message)s',\n",
        "    filename='app.log',\n",
        "    filemode='w' # 'w' for write, which overwrites the log file on each run\n",
        ")\n",
        "\n",
        "def perform_task(value):\n",
        "    \"\"\"\n",
        "    Simulates a task that might succeed or fail.\n",
        "    Logs an informational message on success and an error message on failure.\n",
        "    \"\"\"\n",
        "    logging.info(\"Attempting to perform task with value: %s\", value)\n",
        "    try:\n",
        "        # Simulate a successful operation\n",
        "        if value > 0:\n",
        "            result = 10 / value\n",
        "            logging.info(\"Task completed successfully. Result: %s\", result)\n",
        "            return result\n",
        "        else:\n",
        "            # Simulate a failure\n",
        "            raise ValueError(\"Value must be greater than zero.\")\n",
        "    except Exception as e:\n",
        "        # Log the error message\n",
        "        logging.error(\"An error occurred during task execution: %s\", e)\n",
        "        return None\n",
        "\n",
        "# Example usage\n",
        "perform_task(5)\n",
        "perform_task(0)\n",
        "\n",
        "# The following message will be written to the console, but not the file because the level is DEBUG.\n",
        "# You can change the level in basicConfig to logging.DEBUG to see this message in the log file.\n",
        "logging.debug(\"This is a debug message.\")\n",
        "\n",
        "print(\"Check the 'app.log' file for the log messages.\")"
      ],
      "metadata": {
        "colab": {
          "base_uri": "https://localhost:8080/"
        },
        "id": "ZVc4GZhTM_by",
        "outputId": "6bfa9067-80d4-434d-b8a1-ca1a77d3da63"
      },
      "execution_count": null,
      "outputs": [
        {
          "output_type": "stream",
          "name": "stderr",
          "text": [
            "ERROR:root:An error occurred during task execution: Value must be greater than zero.\n"
          ]
        },
        {
          "output_type": "stream",
          "name": "stdout",
          "text": [
            "Check the 'app.log' file for the log messages.\n"
          ]
        }
      ]
    },
    {
      "cell_type": "markdown",
      "source": [
        "15. Write a Python program that prints the content of a file and handles the case when the file is empty."
      ],
      "metadata": {
        "id": "Ox53gk2iNUfO"
      }
    },
    {
      "cell_type": "code",
      "source": [
        "import os\n",
        "\n",
        "def read_and_print_file(filename):\n",
        "    \"\"\"\n",
        "    Reads a file and prints its content.\n",
        "\n",
        "    Args:\n",
        "        filename (str): The path to the file to be read.\n",
        "    \"\"\"\n",
        "    try:\n",
        "        # Open the file in read mode\n",
        "        with open(filename, 'r') as file:\n",
        "            content = file.read()\n",
        "\n",
        "            # Check if the content is empty\n",
        "            if not content:\n",
        "                print(f\"The file '{filename}' is empty.\")\n",
        "            else:\n",
        "                print(f\"--- Content of '{filename}' ---\")\n",
        "                print(content)\n",
        "                print(\"------------------------------\")\n",
        "\n",
        "    except FileNotFoundError:\n",
        "        print(f\"Error: The file '{filename}' was not found.\")\n",
        "    except Exception as e:\n",
        "        # Catch any other potential errors during file reading\n",
        "        print(f\"An unexpected error occurred: {e}\")\n",
        "\n",
        "if __name__ == \"__main__\":\n",
        "    # Example usage:\n",
        "    # 1. Create a dummy file with content\n",
        "    with open(\"example.txt\", \"w\") as f:\n",
        "        f.write(\"Hello, this is a test file.\\n\")\n",
        "        f.write(\"It contains two lines of text.\")\n",
        "\n",
        "    # 2. Create an empty file\n",
        "    with open(\"empty_file.txt\", \"w\") as f:\n",
        "        pass\n",
        "\n",
        "    # Test with the file that has content\n",
        "    read_and_print_file(\"example.txt\")\n",
        "    print(\"\\n\")\n",
        "\n",
        "    # Test with the empty file\n",
        "    read_and_print_file(\"empty_file.txt\")\n",
        "    print(\"\\n\")\n",
        "\n",
        "    # Test with a non-existent file\n",
        "    read_and_print_file(\"non_existent_file.txt\")\n",
        "\n",
        "    # Clean up the created files\n",
        "    os.remove(\"example.txt\")\n",
        "    os.remove(\"empty_file.txt\")"
      ],
      "metadata": {
        "colab": {
          "base_uri": "https://localhost:8080/"
        },
        "id": "yIPm3a7eNYgQ",
        "outputId": "c3c1ea8e-b545-4830-f5f4-e25e220feaf6"
      },
      "execution_count": null,
      "outputs": [
        {
          "output_type": "stream",
          "name": "stdout",
          "text": [
            "--- Content of 'example.txt' ---\n",
            "Hello, this is a test file.\n",
            "It contains two lines of text.\n",
            "------------------------------\n",
            "\n",
            "\n",
            "The file 'empty_file.txt' is empty.\n",
            "\n",
            "\n",
            "Error: The file 'non_existent_file.txt' was not found.\n"
          ]
        }
      ]
    },
    {
      "cell_type": "markdown",
      "source": [
        "16. Demonstrate how to use memory profiling to check the memory usage of a small program."
      ],
      "metadata": {
        "id": "FXe6-phiNqKg"
      }
    },
    {
      "cell_type": "code",
      "source": [
        "def create_large_list():\n",
        "    \"\"\"\n",
        "    This function creates a large list of integers to demonstrate\n",
        "    memory allocation and profiling.\n",
        "    \"\"\"\n",
        "    print(\"Creating a list of 1 million integers...\")\n",
        "    # The profiler will track the memory consumed by this operation.\n",
        "    # The output will show the memory usage difference before and after this line.\n",
        "    large_list = [i for i in range(1_000_000)]\n",
        "\n",
        "    print(\"List created.\")\n",
        "    return large_list\n",
        "\n",
        "if __name__ == \"__main__\":\n",
        "    print(\"Starting the memory profiling demo.\")\n",
        "    # The create_large_list function will be profiled automatically.\n",
        "    my_list = create_large_list()\n",
        "    print(\"The program has finished.\")"
      ],
      "metadata": {
        "colab": {
          "base_uri": "https://localhost:8080/"
        },
        "id": "cbSYDWS6QGq7",
        "outputId": "cb41fadb-b54e-4d3a-e33f-d98360a5ce85"
      },
      "execution_count": null,
      "outputs": [
        {
          "output_type": "stream",
          "name": "stdout",
          "text": [
            "Starting the memory profiling demo.\n",
            "Creating a list of 1 million integers...\n",
            "List created.\n",
            "The program has finished.\n"
          ]
        }
      ]
    },
    {
      "cell_type": "markdown",
      "source": [
        "17.  Write a Python program to create and write a list of numbers to a file, one number per line."
      ],
      "metadata": {
        "id": "mmfLf3K2QRbr"
      }
    },
    {
      "cell_type": "code",
      "source": [
        "def write_numbers_to_file(filename, numbers):\n",
        "    \"\"\"\n",
        "    Writes a list of numbers to a file, with each number on a new line.\n",
        "\n",
        "    Args:\n",
        "        filename (str): The name of the file to write to.\n",
        "        numbers (list): A list of numerical values to write.\n",
        "    \"\"\"\n",
        "    # Open the file in write mode ('w'). This will create a new file\n",
        "    # or overwrite an existing one.\n",
        "    try:\n",
        "        with open(filename, 'w') as file:\n",
        "            for number in numbers:\n",
        "                # Convert each number to a string before writing, as\n",
        "                # the write() method only accepts strings.\n",
        "                file.write(str(number) + '\\n')\n",
        "        print(f\"Successfully wrote numbers to '{filename}'.\")\n",
        "    except IOError as e:\n",
        "        print(f\"An error occurred while writing to the file: {e}\")\n",
        "\n",
        "if __name__ == \"__main__\":\n",
        "    # The name of the file we want to create and write to.\n",
        "    file_name = \"numbers.txt\"\n",
        "\n",
        "    # The list of numbers to be written to the file.\n",
        "    my_numbers = [10, 20, 30, 40, 50]\n",
        "\n",
        "    # Call the function to perform the file writing.\n",
        "    write_numbers_to_file(file_name, my_numbers)\n",
        "\n",
        "    # You can also read the file to verify the content.\n",
        "    try:\n",
        "        with open(file_name, 'r') as file:\n",
        "            print(f\"\\nContents of '{file_name}':\")\n",
        "            print(file.read())\n",
        "    except FileNotFoundError:\n",
        "        print(f\"The file '{file_name}' was not found.\")\n",
        "    except IOError as e:\n",
        "        print(f\"An error occurred while reading the file: {e}\")"
      ],
      "metadata": {
        "colab": {
          "base_uri": "https://localhost:8080/"
        },
        "id": "4Rgz2x-tQUR2",
        "outputId": "3b3d2c5b-0128-4a83-b7d5-9ab326865505"
      },
      "execution_count": null,
      "outputs": [
        {
          "output_type": "stream",
          "name": "stdout",
          "text": [
            "Successfully wrote numbers to 'numbers.txt'.\n",
            "\n",
            "Contents of 'numbers.txt':\n",
            "10\n",
            "20\n",
            "30\n",
            "40\n",
            "50\n",
            "\n"
          ]
        }
      ]
    },
    {
      "cell_type": "markdown",
      "source": [
        "18.  How would you implement a basic logging setup that logs to a file with rotation after 1MB?"
      ],
      "metadata": {
        "id": "spQ6NGSAQbOA"
      }
    },
    {
      "cell_type": "code",
      "source": [
        "import logging\n",
        "import logging.handlers\n",
        "import os\n",
        "import time\n",
        "\n",
        "# 1. Define the log file name and the maximum file size.\n",
        "LOG_FILE_NAME = 'app.log'\n",
        "MAX_BYTES_PER_FILE = 25 * 25  # 1 MB\n",
        "BACKUP_COUNT = 5 # Number of backup files to keep\n",
        "\n",
        "# 2. Configure the logger.\n",
        "def setup_logger():\n",
        "    \"\"\"\n",
        "    Sets up a logger with a RotatingFileHandler.\n",
        "    \"\"\"\n",
        "    # Create a logger instance\n",
        "    logger = logging.getLogger(\"my_app_logger\")\n",
        "\n",
        "    # Set the logging level to INFO, so it captures INFO, WARNING, ERROR, and CRITICAL messages.\n",
        "    logger.setLevel(logging.INFO)\n",
        "\n",
        "    # Create a file handler that rotates the log file based on size.\n",
        "    # The `maxBytes` parameter specifies the file size limit.\n",
        "    # The `backupCount` parameter specifies how many rotated files to keep.\n",
        "    # For example, after 'app.log' reaches 1MB, it is renamed to 'app.log.1',\n",
        "    # and a new 'app.log' is created. If 'app.log.1' already exists, it is\n",
        "    # renamed to 'app.log.2', and so on.\n",
        "    handler = logging.handlers.RotatingFileHandler(\n",
        "        LOG_FILE_NAME,\n",
        "        maxBytes=MAX_BYTES_PER_FILE,\n",
        "        backupCount=BACKUP_COUNT,\n",
        "        encoding='utf-8'\n",
        "    )\n",
        "\n",
        "    # 3. Define the log message format.\n",
        "    formatter = logging.Formatter(\n",
        "        '%(asctime)s - %(name)s - %(levelname)s - %(message)s'\n",
        "    )\n",
        "\n",
        "    # Set the formatter for the handler.\n",
        "    handler.setFormatter(formatter)\n",
        "\n",
        "    # 4. Add the handler to the logger.\n",
        "    logger.addHandler(handler)\n",
        "\n",
        "    return logger\n",
        "\n",
        "# Main part of the script\n",
        "if __name__ == \"__main__\":\n",
        "    logger = setup_logger()\n",
        "\n",
        "    print(f\"Logging to '{LOG_FILE_NAME}' with a max size of 1MB and {BACKUP_COUNT} backups.\")\n",
        "\n",
        "    # A simple example loop to demonstrate file rotation.\n",
        "    # The loop writes a message that is larger than 1MB to trigger the rotation.\n",
        "    # This may take a few seconds to run.\n",
        "    print(\"Writing log messages... This may take a moment to trigger file rotation.\")\n",
        "\n",
        "    message = \"This is a long log message to quickly increase file size. \" * 20\n",
        "    for i in range(100):\n",
        "        # The rotation will happen automatically in the background.\n",
        "        logger.info(f\"Log entry number {i}: {message}\")\n",
        "        if i % 20 == 0:\n",
        "            print(f\"Logged {i} messages so far...\")\n",
        "\n",
        "    print(\"\\nLog messages written. Check the directory for 'app.log' and rotated files.\")\n",
        "\n",
        "    # You can also manually check the log files to see the rotation.\n",
        "    log_files = [f for f in os.listdir('.') if f.startswith('app.log')]\n",
        "    print(\"Files in the current directory starting with 'app.log':\")\n",
        "    for log_file in sorted(log_files):\n",
        "        print(f\" - {log_file}\")"
      ],
      "metadata": {
        "colab": {
          "base_uri": "https://localhost:8080/"
        },
        "id": "PzfRCIRzRDbb",
        "outputId": "a94bec3e-261f-4f3a-ebc3-02cb6cae4d0a"
      },
      "execution_count": null,
      "outputs": [
        {
          "output_type": "stream",
          "name": "stderr",
          "text": [
            "INFO:my_app_logger:Log entry number 0: This is a long log message to quickly increase file size. This is a long log message to quickly increase file size. This is a long log message to quickly increase file size. This is a long log message to quickly increase file size. This is a long log message to quickly increase file size. This is a long log message to quickly increase file size. This is a long log message to quickly increase file size. This is a long log message to quickly increase file size. This is a long log message to quickly increase file size. This is a long log message to quickly increase file size. This is a long log message to quickly increase file size. This is a long log message to quickly increase file size. This is a long log message to quickly increase file size. This is a long log message to quickly increase file size. This is a long log message to quickly increase file size. This is a long log message to quickly increase file size. This is a long log message to quickly increase file size. This is a long log message to quickly increase file size. This is a long log message to quickly increase file size. This is a long log message to quickly increase file size. \n",
            "INFO:my_app_logger:Log entry number 1: This is a long log message to quickly increase file size. This is a long log message to quickly increase file size. This is a long log message to quickly increase file size. This is a long log message to quickly increase file size. This is a long log message to quickly increase file size. This is a long log message to quickly increase file size. This is a long log message to quickly increase file size. This is a long log message to quickly increase file size. This is a long log message to quickly increase file size. This is a long log message to quickly increase file size. This is a long log message to quickly increase file size. This is a long log message to quickly increase file size. This is a long log message to quickly increase file size. This is a long log message to quickly increase file size. This is a long log message to quickly increase file size. This is a long log message to quickly increase file size. This is a long log message to quickly increase file size. This is a long log message to quickly increase file size. This is a long log message to quickly increase file size. This is a long log message to quickly increase file size. \n",
            "INFO:my_app_logger:Log entry number 2: This is a long log message to quickly increase file size. This is a long log message to quickly increase file size. This is a long log message to quickly increase file size. This is a long log message to quickly increase file size. This is a long log message to quickly increase file size. This is a long log message to quickly increase file size. This is a long log message to quickly increase file size. This is a long log message to quickly increase file size. This is a long log message to quickly increase file size. This is a long log message to quickly increase file size. This is a long log message to quickly increase file size. This is a long log message to quickly increase file size. This is a long log message to quickly increase file size. This is a long log message to quickly increase file size. This is a long log message to quickly increase file size. This is a long log message to quickly increase file size. This is a long log message to quickly increase file size. This is a long log message to quickly increase file size. This is a long log message to quickly increase file size. This is a long log message to quickly increase file size. \n",
            "INFO:my_app_logger:Log entry number 3: This is a long log message to quickly increase file size. This is a long log message to quickly increase file size. This is a long log message to quickly increase file size. This is a long log message to quickly increase file size. This is a long log message to quickly increase file size. This is a long log message to quickly increase file size. This is a long log message to quickly increase file size. This is a long log message to quickly increase file size. This is a long log message to quickly increase file size. This is a long log message to quickly increase file size. This is a long log message to quickly increase file size. This is a long log message to quickly increase file size. This is a long log message to quickly increase file size. This is a long log message to quickly increase file size. This is a long log message to quickly increase file size. This is a long log message to quickly increase file size. This is a long log message to quickly increase file size. This is a long log message to quickly increase file size. This is a long log message to quickly increase file size. This is a long log message to quickly increase file size. \n",
            "INFO:my_app_logger:Log entry number 4: This is a long log message to quickly increase file size. This is a long log message to quickly increase file size. This is a long log message to quickly increase file size. This is a long log message to quickly increase file size. This is a long log message to quickly increase file size. This is a long log message to quickly increase file size. This is a long log message to quickly increase file size. This is a long log message to quickly increase file size. This is a long log message to quickly increase file size. This is a long log message to quickly increase file size. This is a long log message to quickly increase file size. This is a long log message to quickly increase file size. This is a long log message to quickly increase file size. This is a long log message to quickly increase file size. This is a long log message to quickly increase file size. This is a long log message to quickly increase file size. This is a long log message to quickly increase file size. This is a long log message to quickly increase file size. This is a long log message to quickly increase file size. This is a long log message to quickly increase file size. \n",
            "INFO:my_app_logger:Log entry number 5: This is a long log message to quickly increase file size. This is a long log message to quickly increase file size. This is a long log message to quickly increase file size. This is a long log message to quickly increase file size. This is a long log message to quickly increase file size. This is a long log message to quickly increase file size. This is a long log message to quickly increase file size. This is a long log message to quickly increase file size. This is a long log message to quickly increase file size. This is a long log message to quickly increase file size. This is a long log message to quickly increase file size. This is a long log message to quickly increase file size. This is a long log message to quickly increase file size. This is a long log message to quickly increase file size. This is a long log message to quickly increase file size. This is a long log message to quickly increase file size. This is a long log message to quickly increase file size. This is a long log message to quickly increase file size. This is a long log message to quickly increase file size. This is a long log message to quickly increase file size. \n",
            "INFO:my_app_logger:Log entry number 6: This is a long log message to quickly increase file size. This is a long log message to quickly increase file size. This is a long log message to quickly increase file size. This is a long log message to quickly increase file size. This is a long log message to quickly increase file size. This is a long log message to quickly increase file size. This is a long log message to quickly increase file size. This is a long log message to quickly increase file size. This is a long log message to quickly increase file size. This is a long log message to quickly increase file size. This is a long log message to quickly increase file size. This is a long log message to quickly increase file size. This is a long log message to quickly increase file size. This is a long log message to quickly increase file size. This is a long log message to quickly increase file size. This is a long log message to quickly increase file size. This is a long log message to quickly increase file size. This is a long log message to quickly increase file size. This is a long log message to quickly increase file size. This is a long log message to quickly increase file size. \n",
            "INFO:my_app_logger:Log entry number 7: This is a long log message to quickly increase file size. This is a long log message to quickly increase file size. This is a long log message to quickly increase file size. This is a long log message to quickly increase file size. This is a long log message to quickly increase file size. This is a long log message to quickly increase file size. This is a long log message to quickly increase file size. This is a long log message to quickly increase file size. This is a long log message to quickly increase file size. This is a long log message to quickly increase file size. This is a long log message to quickly increase file size. This is a long log message to quickly increase file size. This is a long log message to quickly increase file size. This is a long log message to quickly increase file size. This is a long log message to quickly increase file size. This is a long log message to quickly increase file size. This is a long log message to quickly increase file size. This is a long log message to quickly increase file size. This is a long log message to quickly increase file size. This is a long log message to quickly increase file size. \n",
            "INFO:my_app_logger:Log entry number 8: This is a long log message to quickly increase file size. This is a long log message to quickly increase file size. This is a long log message to quickly increase file size. This is a long log message to quickly increase file size. This is a long log message to quickly increase file size. This is a long log message to quickly increase file size. This is a long log message to quickly increase file size. This is a long log message to quickly increase file size. This is a long log message to quickly increase file size. This is a long log message to quickly increase file size. This is a long log message to quickly increase file size. This is a long log message to quickly increase file size. This is a long log message to quickly increase file size. This is a long log message to quickly increase file size. This is a long log message to quickly increase file size. This is a long log message to quickly increase file size. This is a long log message to quickly increase file size. This is a long log message to quickly increase file size. This is a long log message to quickly increase file size. This is a long log message to quickly increase file size. \n",
            "INFO:my_app_logger:Log entry number 9: This is a long log message to quickly increase file size. This is a long log message to quickly increase file size. This is a long log message to quickly increase file size. This is a long log message to quickly increase file size. This is a long log message to quickly increase file size. This is a long log message to quickly increase file size. This is a long log message to quickly increase file size. This is a long log message to quickly increase file size. This is a long log message to quickly increase file size. This is a long log message to quickly increase file size. This is a long log message to quickly increase file size. This is a long log message to quickly increase file size. This is a long log message to quickly increase file size. This is a long log message to quickly increase file size. This is a long log message to quickly increase file size. This is a long log message to quickly increase file size. This is a long log message to quickly increase file size. This is a long log message to quickly increase file size. This is a long log message to quickly increase file size. This is a long log message to quickly increase file size. \n",
            "INFO:my_app_logger:Log entry number 10: This is a long log message to quickly increase file size. This is a long log message to quickly increase file size. This is a long log message to quickly increase file size. This is a long log message to quickly increase file size. This is a long log message to quickly increase file size. This is a long log message to quickly increase file size. This is a long log message to quickly increase file size. This is a long log message to quickly increase file size. This is a long log message to quickly increase file size. This is a long log message to quickly increase file size. This is a long log message to quickly increase file size. This is a long log message to quickly increase file size. This is a long log message to quickly increase file size. This is a long log message to quickly increase file size. This is a long log message to quickly increase file size. This is a long log message to quickly increase file size. This is a long log message to quickly increase file size. This is a long log message to quickly increase file size. This is a long log message to quickly increase file size. This is a long log message to quickly increase file size. \n",
            "INFO:my_app_logger:Log entry number 11: This is a long log message to quickly increase file size. This is a long log message to quickly increase file size. This is a long log message to quickly increase file size. This is a long log message to quickly increase file size. This is a long log message to quickly increase file size. This is a long log message to quickly increase file size. This is a long log message to quickly increase file size. This is a long log message to quickly increase file size. This is a long log message to quickly increase file size. This is a long log message to quickly increase file size. This is a long log message to quickly increase file size. This is a long log message to quickly increase file size. This is a long log message to quickly increase file size. This is a long log message to quickly increase file size. This is a long log message to quickly increase file size. This is a long log message to quickly increase file size. This is a long log message to quickly increase file size. This is a long log message to quickly increase file size. This is a long log message to quickly increase file size. This is a long log message to quickly increase file size. \n",
            "INFO:my_app_logger:Log entry number 12: This is a long log message to quickly increase file size. This is a long log message to quickly increase file size. This is a long log message to quickly increase file size. This is a long log message to quickly increase file size. This is a long log message to quickly increase file size. This is a long log message to quickly increase file size. This is a long log message to quickly increase file size. This is a long log message to quickly increase file size. This is a long log message to quickly increase file size. This is a long log message to quickly increase file size. This is a long log message to quickly increase file size. This is a long log message to quickly increase file size. This is a long log message to quickly increase file size. This is a long log message to quickly increase file size. This is a long log message to quickly increase file size. This is a long log message to quickly increase file size. This is a long log message to quickly increase file size. This is a long log message to quickly increase file size. This is a long log message to quickly increase file size. This is a long log message to quickly increase file size. \n",
            "INFO:my_app_logger:Log entry number 13: This is a long log message to quickly increase file size. This is a long log message to quickly increase file size. This is a long log message to quickly increase file size. This is a long log message to quickly increase file size. This is a long log message to quickly increase file size. This is a long log message to quickly increase file size. This is a long log message to quickly increase file size. This is a long log message to quickly increase file size. This is a long log message to quickly increase file size. This is a long log message to quickly increase file size. This is a long log message to quickly increase file size. This is a long log message to quickly increase file size. This is a long log message to quickly increase file size. This is a long log message to quickly increase file size. This is a long log message to quickly increase file size. This is a long log message to quickly increase file size. This is a long log message to quickly increase file size. This is a long log message to quickly increase file size. This is a long log message to quickly increase file size. This is a long log message to quickly increase file size. \n",
            "INFO:my_app_logger:Log entry number 14: This is a long log message to quickly increase file size. This is a long log message to quickly increase file size. This is a long log message to quickly increase file size. This is a long log message to quickly increase file size. This is a long log message to quickly increase file size. This is a long log message to quickly increase file size. This is a long log message to quickly increase file size. This is a long log message to quickly increase file size. This is a long log message to quickly increase file size. This is a long log message to quickly increase file size. This is a long log message to quickly increase file size. This is a long log message to quickly increase file size. This is a long log message to quickly increase file size. This is a long log message to quickly increase file size. This is a long log message to quickly increase file size. This is a long log message to quickly increase file size. This is a long log message to quickly increase file size. This is a long log message to quickly increase file size. This is a long log message to quickly increase file size. This is a long log message to quickly increase file size. \n",
            "INFO:my_app_logger:Log entry number 15: This is a long log message to quickly increase file size. This is a long log message to quickly increase file size. This is a long log message to quickly increase file size. This is a long log message to quickly increase file size. This is a long log message to quickly increase file size. This is a long log message to quickly increase file size. This is a long log message to quickly increase file size. This is a long log message to quickly increase file size. This is a long log message to quickly increase file size. This is a long log message to quickly increase file size. This is a long log message to quickly increase file size. This is a long log message to quickly increase file size. This is a long log message to quickly increase file size. This is a long log message to quickly increase file size. This is a long log message to quickly increase file size. This is a long log message to quickly increase file size. This is a long log message to quickly increase file size. This is a long log message to quickly increase file size. This is a long log message to quickly increase file size. This is a long log message to quickly increase file size. \n",
            "INFO:my_app_logger:Log entry number 16: This is a long log message to quickly increase file size. This is a long log message to quickly increase file size. This is a long log message to quickly increase file size. This is a long log message to quickly increase file size. This is a long log message to quickly increase file size. This is a long log message to quickly increase file size. This is a long log message to quickly increase file size. This is a long log message to quickly increase file size. This is a long log message to quickly increase file size. This is a long log message to quickly increase file size. This is a long log message to quickly increase file size. This is a long log message to quickly increase file size. This is a long log message to quickly increase file size. This is a long log message to quickly increase file size. This is a long log message to quickly increase file size. This is a long log message to quickly increase file size. This is a long log message to quickly increase file size. This is a long log message to quickly increase file size. This is a long log message to quickly increase file size. This is a long log message to quickly increase file size. \n",
            "INFO:my_app_logger:Log entry number 17: This is a long log message to quickly increase file size. This is a long log message to quickly increase file size. This is a long log message to quickly increase file size. This is a long log message to quickly increase file size. This is a long log message to quickly increase file size. This is a long log message to quickly increase file size. This is a long log message to quickly increase file size. This is a long log message to quickly increase file size. This is a long log message to quickly increase file size. This is a long log message to quickly increase file size. This is a long log message to quickly increase file size. This is a long log message to quickly increase file size. This is a long log message to quickly increase file size. This is a long log message to quickly increase file size. This is a long log message to quickly increase file size. This is a long log message to quickly increase file size. This is a long log message to quickly increase file size. This is a long log message to quickly increase file size. This is a long log message to quickly increase file size. This is a long log message to quickly increase file size. \n",
            "INFO:my_app_logger:Log entry number 18: This is a long log message to quickly increase file size. This is a long log message to quickly increase file size. This is a long log message to quickly increase file size. This is a long log message to quickly increase file size. This is a long log message to quickly increase file size. This is a long log message to quickly increase file size. This is a long log message to quickly increase file size. This is a long log message to quickly increase file size. This is a long log message to quickly increase file size. This is a long log message to quickly increase file size. This is a long log message to quickly increase file size. This is a long log message to quickly increase file size. This is a long log message to quickly increase file size. This is a long log message to quickly increase file size. This is a long log message to quickly increase file size. This is a long log message to quickly increase file size. This is a long log message to quickly increase file size. This is a long log message to quickly increase file size. This is a long log message to quickly increase file size. This is a long log message to quickly increase file size. \n",
            "INFO:my_app_logger:Log entry number 19: This is a long log message to quickly increase file size. This is a long log message to quickly increase file size. This is a long log message to quickly increase file size. This is a long log message to quickly increase file size. This is a long log message to quickly increase file size. This is a long log message to quickly increase file size. This is a long log message to quickly increase file size. This is a long log message to quickly increase file size. This is a long log message to quickly increase file size. This is a long log message to quickly increase file size. This is a long log message to quickly increase file size. This is a long log message to quickly increase file size. This is a long log message to quickly increase file size. This is a long log message to quickly increase file size. This is a long log message to quickly increase file size. This is a long log message to quickly increase file size. This is a long log message to quickly increase file size. This is a long log message to quickly increase file size. This is a long log message to quickly increase file size. This is a long log message to quickly increase file size. \n",
            "INFO:my_app_logger:Log entry number 20: This is a long log message to quickly increase file size. This is a long log message to quickly increase file size. This is a long log message to quickly increase file size. This is a long log message to quickly increase file size. This is a long log message to quickly increase file size. This is a long log message to quickly increase file size. This is a long log message to quickly increase file size. This is a long log message to quickly increase file size. This is a long log message to quickly increase file size. This is a long log message to quickly increase file size. This is a long log message to quickly increase file size. This is a long log message to quickly increase file size. This is a long log message to quickly increase file size. This is a long log message to quickly increase file size. This is a long log message to quickly increase file size. This is a long log message to quickly increase file size. This is a long log message to quickly increase file size. This is a long log message to quickly increase file size. This is a long log message to quickly increase file size. This is a long log message to quickly increase file size. \n",
            "INFO:my_app_logger:Log entry number 21: This is a long log message to quickly increase file size. This is a long log message to quickly increase file size. This is a long log message to quickly increase file size. This is a long log message to quickly increase file size. This is a long log message to quickly increase file size. This is a long log message to quickly increase file size. This is a long log message to quickly increase file size. This is a long log message to quickly increase file size. This is a long log message to quickly increase file size. This is a long log message to quickly increase file size. This is a long log message to quickly increase file size. This is a long log message to quickly increase file size. This is a long log message to quickly increase file size. This is a long log message to quickly increase file size. This is a long log message to quickly increase file size. This is a long log message to quickly increase file size. This is a long log message to quickly increase file size. This is a long log message to quickly increase file size. This is a long log message to quickly increase file size. This is a long log message to quickly increase file size. \n",
            "INFO:my_app_logger:Log entry number 22: This is a long log message to quickly increase file size. This is a long log message to quickly increase file size. This is a long log message to quickly increase file size. This is a long log message to quickly increase file size. This is a long log message to quickly increase file size. This is a long log message to quickly increase file size. This is a long log message to quickly increase file size. This is a long log message to quickly increase file size. This is a long log message to quickly increase file size. This is a long log message to quickly increase file size. This is a long log message to quickly increase file size. This is a long log message to quickly increase file size. This is a long log message to quickly increase file size. This is a long log message to quickly increase file size. This is a long log message to quickly increase file size. This is a long log message to quickly increase file size. This is a long log message to quickly increase file size. This is a long log message to quickly increase file size. This is a long log message to quickly increase file size. This is a long log message to quickly increase file size. \n",
            "INFO:my_app_logger:Log entry number 23: This is a long log message to quickly increase file size. This is a long log message to quickly increase file size. This is a long log message to quickly increase file size. This is a long log message to quickly increase file size. This is a long log message to quickly increase file size. This is a long log message to quickly increase file size. This is a long log message to quickly increase file size. This is a long log message to quickly increase file size. This is a long log message to quickly increase file size. This is a long log message to quickly increase file size. This is a long log message to quickly increase file size. This is a long log message to quickly increase file size. This is a long log message to quickly increase file size. This is a long log message to quickly increase file size. This is a long log message to quickly increase file size. This is a long log message to quickly increase file size. This is a long log message to quickly increase file size. This is a long log message to quickly increase file size. This is a long log message to quickly increase file size. This is a long log message to quickly increase file size. \n",
            "INFO:my_app_logger:Log entry number 24: This is a long log message to quickly increase file size. This is a long log message to quickly increase file size. This is a long log message to quickly increase file size. This is a long log message to quickly increase file size. This is a long log message to quickly increase file size. This is a long log message to quickly increase file size. This is a long log message to quickly increase file size. This is a long log message to quickly increase file size. This is a long log message to quickly increase file size. This is a long log message to quickly increase file size. This is a long log message to quickly increase file size. This is a long log message to quickly increase file size. This is a long log message to quickly increase file size. This is a long log message to quickly increase file size. This is a long log message to quickly increase file size. This is a long log message to quickly increase file size. This is a long log message to quickly increase file size. This is a long log message to quickly increase file size. This is a long log message to quickly increase file size. This is a long log message to quickly increase file size. \n",
            "INFO:my_app_logger:Log entry number 25: This is a long log message to quickly increase file size. This is a long log message to quickly increase file size. This is a long log message to quickly increase file size. This is a long log message to quickly increase file size. This is a long log message to quickly increase file size. This is a long log message to quickly increase file size. This is a long log message to quickly increase file size. This is a long log message to quickly increase file size. This is a long log message to quickly increase file size. This is a long log message to quickly increase file size. This is a long log message to quickly increase file size. This is a long log message to quickly increase file size. This is a long log message to quickly increase file size. This is a long log message to quickly increase file size. This is a long log message to quickly increase file size. This is a long log message to quickly increase file size. This is a long log message to quickly increase file size. This is a long log message to quickly increase file size. This is a long log message to quickly increase file size. This is a long log message to quickly increase file size. \n",
            "INFO:my_app_logger:Log entry number 26: This is a long log message to quickly increase file size. This is a long log message to quickly increase file size. This is a long log message to quickly increase file size. This is a long log message to quickly increase file size. This is a long log message to quickly increase file size. This is a long log message to quickly increase file size. This is a long log message to quickly increase file size. This is a long log message to quickly increase file size. This is a long log message to quickly increase file size. This is a long log message to quickly increase file size. This is a long log message to quickly increase file size. This is a long log message to quickly increase file size. This is a long log message to quickly increase file size. This is a long log message to quickly increase file size. This is a long log message to quickly increase file size. This is a long log message to quickly increase file size. This is a long log message to quickly increase file size. This is a long log message to quickly increase file size. This is a long log message to quickly increase file size. This is a long log message to quickly increase file size. \n",
            "INFO:my_app_logger:Log entry number 27: This is a long log message to quickly increase file size. This is a long log message to quickly increase file size. This is a long log message to quickly increase file size. This is a long log message to quickly increase file size. This is a long log message to quickly increase file size. This is a long log message to quickly increase file size. This is a long log message to quickly increase file size. This is a long log message to quickly increase file size. This is a long log message to quickly increase file size. This is a long log message to quickly increase file size. This is a long log message to quickly increase file size. This is a long log message to quickly increase file size. This is a long log message to quickly increase file size. This is a long log message to quickly increase file size. This is a long log message to quickly increase file size. This is a long log message to quickly increase file size. This is a long log message to quickly increase file size. This is a long log message to quickly increase file size. This is a long log message to quickly increase file size. This is a long log message to quickly increase file size. \n",
            "INFO:my_app_logger:Log entry number 28: This is a long log message to quickly increase file size. This is a long log message to quickly increase file size. This is a long log message to quickly increase file size. This is a long log message to quickly increase file size. This is a long log message to quickly increase file size. This is a long log message to quickly increase file size. This is a long log message to quickly increase file size. This is a long log message to quickly increase file size. This is a long log message to quickly increase file size. This is a long log message to quickly increase file size. This is a long log message to quickly increase file size. This is a long log message to quickly increase file size. This is a long log message to quickly increase file size. This is a long log message to quickly increase file size. This is a long log message to quickly increase file size. This is a long log message to quickly increase file size. This is a long log message to quickly increase file size. This is a long log message to quickly increase file size. This is a long log message to quickly increase file size. This is a long log message to quickly increase file size. \n",
            "INFO:my_app_logger:Log entry number 29: This is a long log message to quickly increase file size. This is a long log message to quickly increase file size. This is a long log message to quickly increase file size. This is a long log message to quickly increase file size. This is a long log message to quickly increase file size. This is a long log message to quickly increase file size. This is a long log message to quickly increase file size. This is a long log message to quickly increase file size. This is a long log message to quickly increase file size. This is a long log message to quickly increase file size. This is a long log message to quickly increase file size. This is a long log message to quickly increase file size. This is a long log message to quickly increase file size. This is a long log message to quickly increase file size. This is a long log message to quickly increase file size. This is a long log message to quickly increase file size. This is a long log message to quickly increase file size. This is a long log message to quickly increase file size. This is a long log message to quickly increase file size. This is a long log message to quickly increase file size. \n",
            "INFO:my_app_logger:Log entry number 30: This is a long log message to quickly increase file size. This is a long log message to quickly increase file size. This is a long log message to quickly increase file size. This is a long log message to quickly increase file size. This is a long log message to quickly increase file size. This is a long log message to quickly increase file size. This is a long log message to quickly increase file size. This is a long log message to quickly increase file size. This is a long log message to quickly increase file size. This is a long log message to quickly increase file size. This is a long log message to quickly increase file size. This is a long log message to quickly increase file size. This is a long log message to quickly increase file size. This is a long log message to quickly increase file size. This is a long log message to quickly increase file size. This is a long log message to quickly increase file size. This is a long log message to quickly increase file size. This is a long log message to quickly increase file size. This is a long log message to quickly increase file size. This is a long log message to quickly increase file size. \n",
            "INFO:my_app_logger:Log entry number 31: This is a long log message to quickly increase file size. This is a long log message to quickly increase file size. This is a long log message to quickly increase file size. This is a long log message to quickly increase file size. This is a long log message to quickly increase file size. This is a long log message to quickly increase file size. This is a long log message to quickly increase file size. This is a long log message to quickly increase file size. This is a long log message to quickly increase file size. This is a long log message to quickly increase file size. This is a long log message to quickly increase file size. This is a long log message to quickly increase file size. This is a long log message to quickly increase file size. This is a long log message to quickly increase file size. This is a long log message to quickly increase file size. This is a long log message to quickly increase file size. This is a long log message to quickly increase file size. This is a long log message to quickly increase file size. This is a long log message to quickly increase file size. This is a long log message to quickly increase file size. \n",
            "INFO:my_app_logger:Log entry number 32: This is a long log message to quickly increase file size. This is a long log message to quickly increase file size. This is a long log message to quickly increase file size. This is a long log message to quickly increase file size. This is a long log message to quickly increase file size. This is a long log message to quickly increase file size. This is a long log message to quickly increase file size. This is a long log message to quickly increase file size. This is a long log message to quickly increase file size. This is a long log message to quickly increase file size. This is a long log message to quickly increase file size. This is a long log message to quickly increase file size. This is a long log message to quickly increase file size. This is a long log message to quickly increase file size. This is a long log message to quickly increase file size. This is a long log message to quickly increase file size. This is a long log message to quickly increase file size. This is a long log message to quickly increase file size. This is a long log message to quickly increase file size. This is a long log message to quickly increase file size. \n",
            "INFO:my_app_logger:Log entry number 33: This is a long log message to quickly increase file size. This is a long log message to quickly increase file size. This is a long log message to quickly increase file size. This is a long log message to quickly increase file size. This is a long log message to quickly increase file size. This is a long log message to quickly increase file size. This is a long log message to quickly increase file size. This is a long log message to quickly increase file size. This is a long log message to quickly increase file size. This is a long log message to quickly increase file size. This is a long log message to quickly increase file size. This is a long log message to quickly increase file size. This is a long log message to quickly increase file size. This is a long log message to quickly increase file size. This is a long log message to quickly increase file size. This is a long log message to quickly increase file size. This is a long log message to quickly increase file size. This is a long log message to quickly increase file size. This is a long log message to quickly increase file size. This is a long log message to quickly increase file size. \n",
            "INFO:my_app_logger:Log entry number 34: This is a long log message to quickly increase file size. This is a long log message to quickly increase file size. This is a long log message to quickly increase file size. This is a long log message to quickly increase file size. This is a long log message to quickly increase file size. This is a long log message to quickly increase file size. This is a long log message to quickly increase file size. This is a long log message to quickly increase file size. This is a long log message to quickly increase file size. This is a long log message to quickly increase file size. This is a long log message to quickly increase file size. This is a long log message to quickly increase file size. This is a long log message to quickly increase file size. This is a long log message to quickly increase file size. This is a long log message to quickly increase file size. This is a long log message to quickly increase file size. This is a long log message to quickly increase file size. This is a long log message to quickly increase file size. This is a long log message to quickly increase file size. This is a long log message to quickly increase file size. \n",
            "INFO:my_app_logger:Log entry number 35: This is a long log message to quickly increase file size. This is a long log message to quickly increase file size. This is a long log message to quickly increase file size. This is a long log message to quickly increase file size. This is a long log message to quickly increase file size. This is a long log message to quickly increase file size. This is a long log message to quickly increase file size. This is a long log message to quickly increase file size. This is a long log message to quickly increase file size. This is a long log message to quickly increase file size. This is a long log message to quickly increase file size. This is a long log message to quickly increase file size. This is a long log message to quickly increase file size. This is a long log message to quickly increase file size. This is a long log message to quickly increase file size. This is a long log message to quickly increase file size. This is a long log message to quickly increase file size. This is a long log message to quickly increase file size. This is a long log message to quickly increase file size. This is a long log message to quickly increase file size. \n",
            "INFO:my_app_logger:Log entry number 36: This is a long log message to quickly increase file size. This is a long log message to quickly increase file size. This is a long log message to quickly increase file size. This is a long log message to quickly increase file size. This is a long log message to quickly increase file size. This is a long log message to quickly increase file size. This is a long log message to quickly increase file size. This is a long log message to quickly increase file size. This is a long log message to quickly increase file size. This is a long log message to quickly increase file size. This is a long log message to quickly increase file size. This is a long log message to quickly increase file size. This is a long log message to quickly increase file size. This is a long log message to quickly increase file size. This is a long log message to quickly increase file size. This is a long log message to quickly increase file size. This is a long log message to quickly increase file size. This is a long log message to quickly increase file size. This is a long log message to quickly increase file size. This is a long log message to quickly increase file size. \n",
            "INFO:my_app_logger:Log entry number 37: This is a long log message to quickly increase file size. This is a long log message to quickly increase file size. This is a long log message to quickly increase file size. This is a long log message to quickly increase file size. This is a long log message to quickly increase file size. This is a long log message to quickly increase file size. This is a long log message to quickly increase file size. This is a long log message to quickly increase file size. This is a long log message to quickly increase file size. This is a long log message to quickly increase file size. This is a long log message to quickly increase file size. This is a long log message to quickly increase file size. This is a long log message to quickly increase file size. This is a long log message to quickly increase file size. This is a long log message to quickly increase file size. This is a long log message to quickly increase file size. This is a long log message to quickly increase file size. This is a long log message to quickly increase file size. This is a long log message to quickly increase file size. This is a long log message to quickly increase file size. \n",
            "INFO:my_app_logger:Log entry number 38: This is a long log message to quickly increase file size. This is a long log message to quickly increase file size. This is a long log message to quickly increase file size. This is a long log message to quickly increase file size. This is a long log message to quickly increase file size. This is a long log message to quickly increase file size. This is a long log message to quickly increase file size. This is a long log message to quickly increase file size. This is a long log message to quickly increase file size. This is a long log message to quickly increase file size. This is a long log message to quickly increase file size. This is a long log message to quickly increase file size. This is a long log message to quickly increase file size. This is a long log message to quickly increase file size. This is a long log message to quickly increase file size. This is a long log message to quickly increase file size. This is a long log message to quickly increase file size. This is a long log message to quickly increase file size. This is a long log message to quickly increase file size. This is a long log message to quickly increase file size. \n",
            "INFO:my_app_logger:Log entry number 39: This is a long log message to quickly increase file size. This is a long log message to quickly increase file size. This is a long log message to quickly increase file size. This is a long log message to quickly increase file size. This is a long log message to quickly increase file size. This is a long log message to quickly increase file size. This is a long log message to quickly increase file size. This is a long log message to quickly increase file size. This is a long log message to quickly increase file size. This is a long log message to quickly increase file size. This is a long log message to quickly increase file size. This is a long log message to quickly increase file size. This is a long log message to quickly increase file size. This is a long log message to quickly increase file size. This is a long log message to quickly increase file size. This is a long log message to quickly increase file size. This is a long log message to quickly increase file size. This is a long log message to quickly increase file size. This is a long log message to quickly increase file size. This is a long log message to quickly increase file size. \n",
            "INFO:my_app_logger:Log entry number 40: This is a long log message to quickly increase file size. This is a long log message to quickly increase file size. This is a long log message to quickly increase file size. This is a long log message to quickly increase file size. This is a long log message to quickly increase file size. This is a long log message to quickly increase file size. This is a long log message to quickly increase file size. This is a long log message to quickly increase file size. This is a long log message to quickly increase file size. This is a long log message to quickly increase file size. This is a long log message to quickly increase file size. This is a long log message to quickly increase file size. This is a long log message to quickly increase file size. This is a long log message to quickly increase file size. This is a long log message to quickly increase file size. This is a long log message to quickly increase file size. This is a long log message to quickly increase file size. This is a long log message to quickly increase file size. This is a long log message to quickly increase file size. This is a long log message to quickly increase file size. \n",
            "INFO:my_app_logger:Log entry number 41: This is a long log message to quickly increase file size. This is a long log message to quickly increase file size. This is a long log message to quickly increase file size. This is a long log message to quickly increase file size. This is a long log message to quickly increase file size. This is a long log message to quickly increase file size. This is a long log message to quickly increase file size. This is a long log message to quickly increase file size. This is a long log message to quickly increase file size. This is a long log message to quickly increase file size. This is a long log message to quickly increase file size. This is a long log message to quickly increase file size. This is a long log message to quickly increase file size. This is a long log message to quickly increase file size. This is a long log message to quickly increase file size. This is a long log message to quickly increase file size. This is a long log message to quickly increase file size. This is a long log message to quickly increase file size. This is a long log message to quickly increase file size. This is a long log message to quickly increase file size. \n",
            "INFO:my_app_logger:Log entry number 42: This is a long log message to quickly increase file size. This is a long log message to quickly increase file size. This is a long log message to quickly increase file size. This is a long log message to quickly increase file size. This is a long log message to quickly increase file size. This is a long log message to quickly increase file size. This is a long log message to quickly increase file size. This is a long log message to quickly increase file size. This is a long log message to quickly increase file size. This is a long log message to quickly increase file size. This is a long log message to quickly increase file size. This is a long log message to quickly increase file size. This is a long log message to quickly increase file size. This is a long log message to quickly increase file size. This is a long log message to quickly increase file size. This is a long log message to quickly increase file size. This is a long log message to quickly increase file size. This is a long log message to quickly increase file size. This is a long log message to quickly increase file size. This is a long log message to quickly increase file size. \n",
            "INFO:my_app_logger:Log entry number 43: This is a long log message to quickly increase file size. This is a long log message to quickly increase file size. This is a long log message to quickly increase file size. This is a long log message to quickly increase file size. This is a long log message to quickly increase file size. This is a long log message to quickly increase file size. This is a long log message to quickly increase file size. This is a long log message to quickly increase file size. This is a long log message to quickly increase file size. This is a long log message to quickly increase file size. This is a long log message to quickly increase file size. This is a long log message to quickly increase file size. This is a long log message to quickly increase file size. This is a long log message to quickly increase file size. This is a long log message to quickly increase file size. This is a long log message to quickly increase file size. This is a long log message to quickly increase file size. This is a long log message to quickly increase file size. This is a long log message to quickly increase file size. This is a long log message to quickly increase file size. \n",
            "INFO:my_app_logger:Log entry number 44: This is a long log message to quickly increase file size. This is a long log message to quickly increase file size. This is a long log message to quickly increase file size. This is a long log message to quickly increase file size. This is a long log message to quickly increase file size. This is a long log message to quickly increase file size. This is a long log message to quickly increase file size. This is a long log message to quickly increase file size. This is a long log message to quickly increase file size. This is a long log message to quickly increase file size. This is a long log message to quickly increase file size. This is a long log message to quickly increase file size. This is a long log message to quickly increase file size. This is a long log message to quickly increase file size. This is a long log message to quickly increase file size. This is a long log message to quickly increase file size. This is a long log message to quickly increase file size. This is a long log message to quickly increase file size. This is a long log message to quickly increase file size. This is a long log message to quickly increase file size. \n",
            "INFO:my_app_logger:Log entry number 45: This is a long log message to quickly increase file size. This is a long log message to quickly increase file size. This is a long log message to quickly increase file size. This is a long log message to quickly increase file size. This is a long log message to quickly increase file size. This is a long log message to quickly increase file size. This is a long log message to quickly increase file size. This is a long log message to quickly increase file size. This is a long log message to quickly increase file size. This is a long log message to quickly increase file size. This is a long log message to quickly increase file size. This is a long log message to quickly increase file size. This is a long log message to quickly increase file size. This is a long log message to quickly increase file size. This is a long log message to quickly increase file size. This is a long log message to quickly increase file size. This is a long log message to quickly increase file size. This is a long log message to quickly increase file size. This is a long log message to quickly increase file size. This is a long log message to quickly increase file size. \n",
            "INFO:my_app_logger:Log entry number 46: This is a long log message to quickly increase file size. This is a long log message to quickly increase file size. This is a long log message to quickly increase file size. This is a long log message to quickly increase file size. This is a long log message to quickly increase file size. This is a long log message to quickly increase file size. This is a long log message to quickly increase file size. This is a long log message to quickly increase file size. This is a long log message to quickly increase file size. This is a long log message to quickly increase file size. This is a long log message to quickly increase file size. This is a long log message to quickly increase file size. This is a long log message to quickly increase file size. This is a long log message to quickly increase file size. This is a long log message to quickly increase file size. This is a long log message to quickly increase file size. This is a long log message to quickly increase file size. This is a long log message to quickly increase file size. This is a long log message to quickly increase file size. This is a long log message to quickly increase file size. \n",
            "INFO:my_app_logger:Log entry number 47: This is a long log message to quickly increase file size. This is a long log message to quickly increase file size. This is a long log message to quickly increase file size. This is a long log message to quickly increase file size. This is a long log message to quickly increase file size. This is a long log message to quickly increase file size. This is a long log message to quickly increase file size. This is a long log message to quickly increase file size. This is a long log message to quickly increase file size. This is a long log message to quickly increase file size. This is a long log message to quickly increase file size. This is a long log message to quickly increase file size. This is a long log message to quickly increase file size. This is a long log message to quickly increase file size. This is a long log message to quickly increase file size. This is a long log message to quickly increase file size. This is a long log message to quickly increase file size. This is a long log message to quickly increase file size. This is a long log message to quickly increase file size. This is a long log message to quickly increase file size. \n",
            "INFO:my_app_logger:Log entry number 48: This is a long log message to quickly increase file size. This is a long log message to quickly increase file size. This is a long log message to quickly increase file size. This is a long log message to quickly increase file size. This is a long log message to quickly increase file size. This is a long log message to quickly increase file size. This is a long log message to quickly increase file size. This is a long log message to quickly increase file size. This is a long log message to quickly increase file size. This is a long log message to quickly increase file size. This is a long log message to quickly increase file size. This is a long log message to quickly increase file size. This is a long log message to quickly increase file size. This is a long log message to quickly increase file size. This is a long log message to quickly increase file size. This is a long log message to quickly increase file size. This is a long log message to quickly increase file size. This is a long log message to quickly increase file size. This is a long log message to quickly increase file size. This is a long log message to quickly increase file size. \n",
            "INFO:my_app_logger:Log entry number 49: This is a long log message to quickly increase file size. This is a long log message to quickly increase file size. This is a long log message to quickly increase file size. This is a long log message to quickly increase file size. This is a long log message to quickly increase file size. This is a long log message to quickly increase file size. This is a long log message to quickly increase file size. This is a long log message to quickly increase file size. This is a long log message to quickly increase file size. This is a long log message to quickly increase file size. This is a long log message to quickly increase file size. This is a long log message to quickly increase file size. This is a long log message to quickly increase file size. This is a long log message to quickly increase file size. This is a long log message to quickly increase file size. This is a long log message to quickly increase file size. This is a long log message to quickly increase file size. This is a long log message to quickly increase file size. This is a long log message to quickly increase file size. This is a long log message to quickly increase file size. \n",
            "INFO:my_app_logger:Log entry number 50: This is a long log message to quickly increase file size. This is a long log message to quickly increase file size. This is a long log message to quickly increase file size. This is a long log message to quickly increase file size. This is a long log message to quickly increase file size. This is a long log message to quickly increase file size. This is a long log message to quickly increase file size. This is a long log message to quickly increase file size. This is a long log message to quickly increase file size. This is a long log message to quickly increase file size. This is a long log message to quickly increase file size. This is a long log message to quickly increase file size. This is a long log message to quickly increase file size. This is a long log message to quickly increase file size. This is a long log message to quickly increase file size. This is a long log message to quickly increase file size. This is a long log message to quickly increase file size. This is a long log message to quickly increase file size. This is a long log message to quickly increase file size. This is a long log message to quickly increase file size. \n",
            "INFO:my_app_logger:Log entry number 51: This is a long log message to quickly increase file size. This is a long log message to quickly increase file size. This is a long log message to quickly increase file size. This is a long log message to quickly increase file size. This is a long log message to quickly increase file size. This is a long log message to quickly increase file size. This is a long log message to quickly increase file size. This is a long log message to quickly increase file size. This is a long log message to quickly increase file size. This is a long log message to quickly increase file size. This is a long log message to quickly increase file size. This is a long log message to quickly increase file size. This is a long log message to quickly increase file size. This is a long log message to quickly increase file size. This is a long log message to quickly increase file size. This is a long log message to quickly increase file size. This is a long log message to quickly increase file size. This is a long log message to quickly increase file size. This is a long log message to quickly increase file size. This is a long log message to quickly increase file size. \n",
            "INFO:my_app_logger:Log entry number 52: This is a long log message to quickly increase file size. This is a long log message to quickly increase file size. This is a long log message to quickly increase file size. This is a long log message to quickly increase file size. This is a long log message to quickly increase file size. This is a long log message to quickly increase file size. This is a long log message to quickly increase file size. This is a long log message to quickly increase file size. This is a long log message to quickly increase file size. This is a long log message to quickly increase file size. This is a long log message to quickly increase file size. This is a long log message to quickly increase file size. This is a long log message to quickly increase file size. This is a long log message to quickly increase file size. This is a long log message to quickly increase file size. This is a long log message to quickly increase file size. This is a long log message to quickly increase file size. This is a long log message to quickly increase file size. This is a long log message to quickly increase file size. This is a long log message to quickly increase file size. \n",
            "INFO:my_app_logger:Log entry number 53: This is a long log message to quickly increase file size. This is a long log message to quickly increase file size. This is a long log message to quickly increase file size. This is a long log message to quickly increase file size. This is a long log message to quickly increase file size. This is a long log message to quickly increase file size. This is a long log message to quickly increase file size. This is a long log message to quickly increase file size. This is a long log message to quickly increase file size. This is a long log message to quickly increase file size. This is a long log message to quickly increase file size. This is a long log message to quickly increase file size. This is a long log message to quickly increase file size. This is a long log message to quickly increase file size. This is a long log message to quickly increase file size. This is a long log message to quickly increase file size. This is a long log message to quickly increase file size. This is a long log message to quickly increase file size. This is a long log message to quickly increase file size. This is a long log message to quickly increase file size. \n",
            "INFO:my_app_logger:Log entry number 54: This is a long log message to quickly increase file size. This is a long log message to quickly increase file size. This is a long log message to quickly increase file size. This is a long log message to quickly increase file size. This is a long log message to quickly increase file size. This is a long log message to quickly increase file size. This is a long log message to quickly increase file size. This is a long log message to quickly increase file size. This is a long log message to quickly increase file size. This is a long log message to quickly increase file size. This is a long log message to quickly increase file size. This is a long log message to quickly increase file size. This is a long log message to quickly increase file size. This is a long log message to quickly increase file size. This is a long log message to quickly increase file size. This is a long log message to quickly increase file size. This is a long log message to quickly increase file size. This is a long log message to quickly increase file size. This is a long log message to quickly increase file size. This is a long log message to quickly increase file size. \n",
            "INFO:my_app_logger:Log entry number 55: This is a long log message to quickly increase file size. This is a long log message to quickly increase file size. This is a long log message to quickly increase file size. This is a long log message to quickly increase file size. This is a long log message to quickly increase file size. This is a long log message to quickly increase file size. This is a long log message to quickly increase file size. This is a long log message to quickly increase file size. This is a long log message to quickly increase file size. This is a long log message to quickly increase file size. This is a long log message to quickly increase file size. This is a long log message to quickly increase file size. This is a long log message to quickly increase file size. This is a long log message to quickly increase file size. This is a long log message to quickly increase file size. This is a long log message to quickly increase file size. This is a long log message to quickly increase file size. This is a long log message to quickly increase file size. This is a long log message to quickly increase file size. This is a long log message to quickly increase file size. \n",
            "INFO:my_app_logger:Log entry number 56: This is a long log message to quickly increase file size. This is a long log message to quickly increase file size. This is a long log message to quickly increase file size. This is a long log message to quickly increase file size. This is a long log message to quickly increase file size. This is a long log message to quickly increase file size. This is a long log message to quickly increase file size. This is a long log message to quickly increase file size. This is a long log message to quickly increase file size. This is a long log message to quickly increase file size. This is a long log message to quickly increase file size. This is a long log message to quickly increase file size. This is a long log message to quickly increase file size. This is a long log message to quickly increase file size. This is a long log message to quickly increase file size. This is a long log message to quickly increase file size. This is a long log message to quickly increase file size. This is a long log message to quickly increase file size. This is a long log message to quickly increase file size. This is a long log message to quickly increase file size. \n",
            "INFO:my_app_logger:Log entry number 57: This is a long log message to quickly increase file size. This is a long log message to quickly increase file size. This is a long log message to quickly increase file size. This is a long log message to quickly increase file size. This is a long log message to quickly increase file size. This is a long log message to quickly increase file size. This is a long log message to quickly increase file size. This is a long log message to quickly increase file size. This is a long log message to quickly increase file size. This is a long log message to quickly increase file size. This is a long log message to quickly increase file size. This is a long log message to quickly increase file size. This is a long log message to quickly increase file size. This is a long log message to quickly increase file size. This is a long log message to quickly increase file size. This is a long log message to quickly increase file size. This is a long log message to quickly increase file size. This is a long log message to quickly increase file size. This is a long log message to quickly increase file size. This is a long log message to quickly increase file size. \n",
            "INFO:my_app_logger:Log entry number 58: This is a long log message to quickly increase file size. This is a long log message to quickly increase file size. This is a long log message to quickly increase file size. This is a long log message to quickly increase file size. This is a long log message to quickly increase file size. This is a long log message to quickly increase file size. This is a long log message to quickly increase file size. This is a long log message to quickly increase file size. This is a long log message to quickly increase file size. This is a long log message to quickly increase file size. This is a long log message to quickly increase file size. This is a long log message to quickly increase file size. This is a long log message to quickly increase file size. This is a long log message to quickly increase file size. This is a long log message to quickly increase file size. This is a long log message to quickly increase file size. This is a long log message to quickly increase file size. This is a long log message to quickly increase file size. This is a long log message to quickly increase file size. This is a long log message to quickly increase file size. \n",
            "INFO:my_app_logger:Log entry number 59: This is a long log message to quickly increase file size. This is a long log message to quickly increase file size. This is a long log message to quickly increase file size. This is a long log message to quickly increase file size. This is a long log message to quickly increase file size. This is a long log message to quickly increase file size. This is a long log message to quickly increase file size. This is a long log message to quickly increase file size. This is a long log message to quickly increase file size. This is a long log message to quickly increase file size. This is a long log message to quickly increase file size. This is a long log message to quickly increase file size. This is a long log message to quickly increase file size. This is a long log message to quickly increase file size. This is a long log message to quickly increase file size. This is a long log message to quickly increase file size. This is a long log message to quickly increase file size. This is a long log message to quickly increase file size. This is a long log message to quickly increase file size. This is a long log message to quickly increase file size. \n",
            "INFO:my_app_logger:Log entry number 60: This is a long log message to quickly increase file size. This is a long log message to quickly increase file size. This is a long log message to quickly increase file size. This is a long log message to quickly increase file size. This is a long log message to quickly increase file size. This is a long log message to quickly increase file size. This is a long log message to quickly increase file size. This is a long log message to quickly increase file size. This is a long log message to quickly increase file size. This is a long log message to quickly increase file size. This is a long log message to quickly increase file size. This is a long log message to quickly increase file size. This is a long log message to quickly increase file size. This is a long log message to quickly increase file size. This is a long log message to quickly increase file size. This is a long log message to quickly increase file size. This is a long log message to quickly increase file size. This is a long log message to quickly increase file size. This is a long log message to quickly increase file size. This is a long log message to quickly increase file size. \n",
            "INFO:my_app_logger:Log entry number 61: This is a long log message to quickly increase file size. This is a long log message to quickly increase file size. This is a long log message to quickly increase file size. This is a long log message to quickly increase file size. This is a long log message to quickly increase file size. This is a long log message to quickly increase file size. This is a long log message to quickly increase file size. This is a long log message to quickly increase file size. This is a long log message to quickly increase file size. This is a long log message to quickly increase file size. This is a long log message to quickly increase file size. This is a long log message to quickly increase file size. This is a long log message to quickly increase file size. This is a long log message to quickly increase file size. This is a long log message to quickly increase file size. This is a long log message to quickly increase file size. This is a long log message to quickly increase file size. This is a long log message to quickly increase file size. This is a long log message to quickly increase file size. This is a long log message to quickly increase file size. \n",
            "INFO:my_app_logger:Log entry number 62: This is a long log message to quickly increase file size. This is a long log message to quickly increase file size. This is a long log message to quickly increase file size. This is a long log message to quickly increase file size. This is a long log message to quickly increase file size. This is a long log message to quickly increase file size. This is a long log message to quickly increase file size. This is a long log message to quickly increase file size. This is a long log message to quickly increase file size. This is a long log message to quickly increase file size. This is a long log message to quickly increase file size. This is a long log message to quickly increase file size. This is a long log message to quickly increase file size. This is a long log message to quickly increase file size. This is a long log message to quickly increase file size. This is a long log message to quickly increase file size. This is a long log message to quickly increase file size. This is a long log message to quickly increase file size. This is a long log message to quickly increase file size. This is a long log message to quickly increase file size. \n",
            "INFO:my_app_logger:Log entry number 63: This is a long log message to quickly increase file size. This is a long log message to quickly increase file size. This is a long log message to quickly increase file size. This is a long log message to quickly increase file size. This is a long log message to quickly increase file size. This is a long log message to quickly increase file size. This is a long log message to quickly increase file size. This is a long log message to quickly increase file size. This is a long log message to quickly increase file size. This is a long log message to quickly increase file size. This is a long log message to quickly increase file size. This is a long log message to quickly increase file size. This is a long log message to quickly increase file size. This is a long log message to quickly increase file size. This is a long log message to quickly increase file size. This is a long log message to quickly increase file size. This is a long log message to quickly increase file size. This is a long log message to quickly increase file size. This is a long log message to quickly increase file size. This is a long log message to quickly increase file size. \n",
            "INFO:my_app_logger:Log entry number 64: This is a long log message to quickly increase file size. This is a long log message to quickly increase file size. This is a long log message to quickly increase file size. This is a long log message to quickly increase file size. This is a long log message to quickly increase file size. This is a long log message to quickly increase file size. This is a long log message to quickly increase file size. This is a long log message to quickly increase file size. This is a long log message to quickly increase file size. This is a long log message to quickly increase file size. This is a long log message to quickly increase file size. This is a long log message to quickly increase file size. This is a long log message to quickly increase file size. This is a long log message to quickly increase file size. This is a long log message to quickly increase file size. This is a long log message to quickly increase file size. This is a long log message to quickly increase file size. This is a long log message to quickly increase file size. This is a long log message to quickly increase file size. This is a long log message to quickly increase file size. \n",
            "INFO:my_app_logger:Log entry number 65: This is a long log message to quickly increase file size. This is a long log message to quickly increase file size. This is a long log message to quickly increase file size. This is a long log message to quickly increase file size. This is a long log message to quickly increase file size. This is a long log message to quickly increase file size. This is a long log message to quickly increase file size. This is a long log message to quickly increase file size. This is a long log message to quickly increase file size. This is a long log message to quickly increase file size. This is a long log message to quickly increase file size. This is a long log message to quickly increase file size. This is a long log message to quickly increase file size. This is a long log message to quickly increase file size. This is a long log message to quickly increase file size. This is a long log message to quickly increase file size. This is a long log message to quickly increase file size. This is a long log message to quickly increase file size. This is a long log message to quickly increase file size. This is a long log message to quickly increase file size. \n",
            "INFO:my_app_logger:Log entry number 66: This is a long log message to quickly increase file size. This is a long log message to quickly increase file size. This is a long log message to quickly increase file size. This is a long log message to quickly increase file size. This is a long log message to quickly increase file size. This is a long log message to quickly increase file size. This is a long log message to quickly increase file size. This is a long log message to quickly increase file size. This is a long log message to quickly increase file size. This is a long log message to quickly increase file size. This is a long log message to quickly increase file size. This is a long log message to quickly increase file size. This is a long log message to quickly increase file size. This is a long log message to quickly increase file size. This is a long log message to quickly increase file size. This is a long log message to quickly increase file size. This is a long log message to quickly increase file size. This is a long log message to quickly increase file size. This is a long log message to quickly increase file size. This is a long log message to quickly increase file size. \n",
            "INFO:my_app_logger:Log entry number 67: This is a long log message to quickly increase file size. This is a long log message to quickly increase file size. This is a long log message to quickly increase file size. This is a long log message to quickly increase file size. This is a long log message to quickly increase file size. This is a long log message to quickly increase file size. This is a long log message to quickly increase file size. This is a long log message to quickly increase file size. This is a long log message to quickly increase file size. This is a long log message to quickly increase file size. This is a long log message to quickly increase file size. This is a long log message to quickly increase file size. This is a long log message to quickly increase file size. This is a long log message to quickly increase file size. This is a long log message to quickly increase file size. This is a long log message to quickly increase file size. This is a long log message to quickly increase file size. This is a long log message to quickly increase file size. This is a long log message to quickly increase file size. This is a long log message to quickly increase file size. \n",
            "INFO:my_app_logger:Log entry number 68: This is a long log message to quickly increase file size. This is a long log message to quickly increase file size. This is a long log message to quickly increase file size. This is a long log message to quickly increase file size. This is a long log message to quickly increase file size. This is a long log message to quickly increase file size. This is a long log message to quickly increase file size. This is a long log message to quickly increase file size. This is a long log message to quickly increase file size. This is a long log message to quickly increase file size. This is a long log message to quickly increase file size. This is a long log message to quickly increase file size. This is a long log message to quickly increase file size. This is a long log message to quickly increase file size. This is a long log message to quickly increase file size. This is a long log message to quickly increase file size. This is a long log message to quickly increase file size. This is a long log message to quickly increase file size. This is a long log message to quickly increase file size. This is a long log message to quickly increase file size. \n",
            "INFO:my_app_logger:Log entry number 69: This is a long log message to quickly increase file size. This is a long log message to quickly increase file size. This is a long log message to quickly increase file size. This is a long log message to quickly increase file size. This is a long log message to quickly increase file size. This is a long log message to quickly increase file size. This is a long log message to quickly increase file size. This is a long log message to quickly increase file size. This is a long log message to quickly increase file size. This is a long log message to quickly increase file size. This is a long log message to quickly increase file size. This is a long log message to quickly increase file size. This is a long log message to quickly increase file size. This is a long log message to quickly increase file size. This is a long log message to quickly increase file size. This is a long log message to quickly increase file size. This is a long log message to quickly increase file size. This is a long log message to quickly increase file size. This is a long log message to quickly increase file size. This is a long log message to quickly increase file size. \n",
            "INFO:my_app_logger:Log entry number 70: This is a long log message to quickly increase file size. This is a long log message to quickly increase file size. This is a long log message to quickly increase file size. This is a long log message to quickly increase file size. This is a long log message to quickly increase file size. This is a long log message to quickly increase file size. This is a long log message to quickly increase file size. This is a long log message to quickly increase file size. This is a long log message to quickly increase file size. This is a long log message to quickly increase file size. This is a long log message to quickly increase file size. This is a long log message to quickly increase file size. This is a long log message to quickly increase file size. This is a long log message to quickly increase file size. This is a long log message to quickly increase file size. This is a long log message to quickly increase file size. This is a long log message to quickly increase file size. This is a long log message to quickly increase file size. This is a long log message to quickly increase file size. This is a long log message to quickly increase file size. \n",
            "INFO:my_app_logger:Log entry number 71: This is a long log message to quickly increase file size. This is a long log message to quickly increase file size. This is a long log message to quickly increase file size. This is a long log message to quickly increase file size. This is a long log message to quickly increase file size. This is a long log message to quickly increase file size. This is a long log message to quickly increase file size. This is a long log message to quickly increase file size. This is a long log message to quickly increase file size. This is a long log message to quickly increase file size. This is a long log message to quickly increase file size. This is a long log message to quickly increase file size. This is a long log message to quickly increase file size. This is a long log message to quickly increase file size. This is a long log message to quickly increase file size. This is a long log message to quickly increase file size. This is a long log message to quickly increase file size. This is a long log message to quickly increase file size. This is a long log message to quickly increase file size. This is a long log message to quickly increase file size. \n",
            "INFO:my_app_logger:Log entry number 72: This is a long log message to quickly increase file size. This is a long log message to quickly increase file size. This is a long log message to quickly increase file size. This is a long log message to quickly increase file size. This is a long log message to quickly increase file size. This is a long log message to quickly increase file size. This is a long log message to quickly increase file size. This is a long log message to quickly increase file size. This is a long log message to quickly increase file size. This is a long log message to quickly increase file size. This is a long log message to quickly increase file size. This is a long log message to quickly increase file size. This is a long log message to quickly increase file size. This is a long log message to quickly increase file size. This is a long log message to quickly increase file size. This is a long log message to quickly increase file size. This is a long log message to quickly increase file size. This is a long log message to quickly increase file size. This is a long log message to quickly increase file size. This is a long log message to quickly increase file size. \n",
            "INFO:my_app_logger:Log entry number 73: This is a long log message to quickly increase file size. This is a long log message to quickly increase file size. This is a long log message to quickly increase file size. This is a long log message to quickly increase file size. This is a long log message to quickly increase file size. This is a long log message to quickly increase file size. This is a long log message to quickly increase file size. This is a long log message to quickly increase file size. This is a long log message to quickly increase file size. This is a long log message to quickly increase file size. This is a long log message to quickly increase file size. This is a long log message to quickly increase file size. This is a long log message to quickly increase file size. This is a long log message to quickly increase file size. This is a long log message to quickly increase file size. This is a long log message to quickly increase file size. This is a long log message to quickly increase file size. This is a long log message to quickly increase file size. This is a long log message to quickly increase file size. This is a long log message to quickly increase file size. \n",
            "INFO:my_app_logger:Log entry number 74: This is a long log message to quickly increase file size. This is a long log message to quickly increase file size. This is a long log message to quickly increase file size. This is a long log message to quickly increase file size. This is a long log message to quickly increase file size. This is a long log message to quickly increase file size. This is a long log message to quickly increase file size. This is a long log message to quickly increase file size. This is a long log message to quickly increase file size. This is a long log message to quickly increase file size. This is a long log message to quickly increase file size. This is a long log message to quickly increase file size. This is a long log message to quickly increase file size. This is a long log message to quickly increase file size. This is a long log message to quickly increase file size. This is a long log message to quickly increase file size. This is a long log message to quickly increase file size. This is a long log message to quickly increase file size. This is a long log message to quickly increase file size. This is a long log message to quickly increase file size. \n",
            "INFO:my_app_logger:Log entry number 75: This is a long log message to quickly increase file size. This is a long log message to quickly increase file size. This is a long log message to quickly increase file size. This is a long log message to quickly increase file size. This is a long log message to quickly increase file size. This is a long log message to quickly increase file size. This is a long log message to quickly increase file size. This is a long log message to quickly increase file size. This is a long log message to quickly increase file size. This is a long log message to quickly increase file size. This is a long log message to quickly increase file size. This is a long log message to quickly increase file size. This is a long log message to quickly increase file size. This is a long log message to quickly increase file size. This is a long log message to quickly increase file size. This is a long log message to quickly increase file size. This is a long log message to quickly increase file size. This is a long log message to quickly increase file size. This is a long log message to quickly increase file size. This is a long log message to quickly increase file size. \n",
            "INFO:my_app_logger:Log entry number 76: This is a long log message to quickly increase file size. This is a long log message to quickly increase file size. This is a long log message to quickly increase file size. This is a long log message to quickly increase file size. This is a long log message to quickly increase file size. This is a long log message to quickly increase file size. This is a long log message to quickly increase file size. This is a long log message to quickly increase file size. This is a long log message to quickly increase file size. This is a long log message to quickly increase file size. This is a long log message to quickly increase file size. This is a long log message to quickly increase file size. This is a long log message to quickly increase file size. This is a long log message to quickly increase file size. This is a long log message to quickly increase file size. This is a long log message to quickly increase file size. This is a long log message to quickly increase file size. This is a long log message to quickly increase file size. This is a long log message to quickly increase file size. This is a long log message to quickly increase file size. \n",
            "INFO:my_app_logger:Log entry number 77: This is a long log message to quickly increase file size. This is a long log message to quickly increase file size. This is a long log message to quickly increase file size. This is a long log message to quickly increase file size. This is a long log message to quickly increase file size. This is a long log message to quickly increase file size. This is a long log message to quickly increase file size. This is a long log message to quickly increase file size. This is a long log message to quickly increase file size. This is a long log message to quickly increase file size. This is a long log message to quickly increase file size. This is a long log message to quickly increase file size. This is a long log message to quickly increase file size. This is a long log message to quickly increase file size. This is a long log message to quickly increase file size. This is a long log message to quickly increase file size. This is a long log message to quickly increase file size. This is a long log message to quickly increase file size. This is a long log message to quickly increase file size. This is a long log message to quickly increase file size. \n",
            "INFO:my_app_logger:Log entry number 78: This is a long log message to quickly increase file size. This is a long log message to quickly increase file size. This is a long log message to quickly increase file size. This is a long log message to quickly increase file size. This is a long log message to quickly increase file size. This is a long log message to quickly increase file size. This is a long log message to quickly increase file size. This is a long log message to quickly increase file size. This is a long log message to quickly increase file size. This is a long log message to quickly increase file size. This is a long log message to quickly increase file size. This is a long log message to quickly increase file size. This is a long log message to quickly increase file size. This is a long log message to quickly increase file size. This is a long log message to quickly increase file size. This is a long log message to quickly increase file size. This is a long log message to quickly increase file size. This is a long log message to quickly increase file size. This is a long log message to quickly increase file size. This is a long log message to quickly increase file size. \n",
            "INFO:my_app_logger:Log entry number 79: This is a long log message to quickly increase file size. This is a long log message to quickly increase file size. This is a long log message to quickly increase file size. This is a long log message to quickly increase file size. This is a long log message to quickly increase file size. This is a long log message to quickly increase file size. This is a long log message to quickly increase file size. This is a long log message to quickly increase file size. This is a long log message to quickly increase file size. This is a long log message to quickly increase file size. This is a long log message to quickly increase file size. This is a long log message to quickly increase file size. This is a long log message to quickly increase file size. This is a long log message to quickly increase file size. This is a long log message to quickly increase file size. This is a long log message to quickly increase file size. This is a long log message to quickly increase file size. This is a long log message to quickly increase file size. This is a long log message to quickly increase file size. This is a long log message to quickly increase file size. \n",
            "INFO:my_app_logger:Log entry number 80: This is a long log message to quickly increase file size. This is a long log message to quickly increase file size. This is a long log message to quickly increase file size. This is a long log message to quickly increase file size. This is a long log message to quickly increase file size. This is a long log message to quickly increase file size. This is a long log message to quickly increase file size. This is a long log message to quickly increase file size. This is a long log message to quickly increase file size. This is a long log message to quickly increase file size. This is a long log message to quickly increase file size. This is a long log message to quickly increase file size. This is a long log message to quickly increase file size. This is a long log message to quickly increase file size. This is a long log message to quickly increase file size. This is a long log message to quickly increase file size. This is a long log message to quickly increase file size. This is a long log message to quickly increase file size. This is a long log message to quickly increase file size. This is a long log message to quickly increase file size. \n",
            "INFO:my_app_logger:Log entry number 81: This is a long log message to quickly increase file size. This is a long log message to quickly increase file size. This is a long log message to quickly increase file size. This is a long log message to quickly increase file size. This is a long log message to quickly increase file size. This is a long log message to quickly increase file size. This is a long log message to quickly increase file size. This is a long log message to quickly increase file size. This is a long log message to quickly increase file size. This is a long log message to quickly increase file size. This is a long log message to quickly increase file size. This is a long log message to quickly increase file size. This is a long log message to quickly increase file size. This is a long log message to quickly increase file size. This is a long log message to quickly increase file size. This is a long log message to quickly increase file size. This is a long log message to quickly increase file size. This is a long log message to quickly increase file size. This is a long log message to quickly increase file size. This is a long log message to quickly increase file size. \n",
            "INFO:my_app_logger:Log entry number 82: This is a long log message to quickly increase file size. This is a long log message to quickly increase file size. This is a long log message to quickly increase file size. This is a long log message to quickly increase file size. This is a long log message to quickly increase file size. This is a long log message to quickly increase file size. This is a long log message to quickly increase file size. This is a long log message to quickly increase file size. This is a long log message to quickly increase file size. This is a long log message to quickly increase file size. This is a long log message to quickly increase file size. This is a long log message to quickly increase file size. This is a long log message to quickly increase file size. This is a long log message to quickly increase file size. This is a long log message to quickly increase file size. This is a long log message to quickly increase file size. This is a long log message to quickly increase file size. This is a long log message to quickly increase file size. This is a long log message to quickly increase file size. This is a long log message to quickly increase file size. \n",
            "INFO:my_app_logger:Log entry number 83: This is a long log message to quickly increase file size. This is a long log message to quickly increase file size. This is a long log message to quickly increase file size. This is a long log message to quickly increase file size. This is a long log message to quickly increase file size. This is a long log message to quickly increase file size. This is a long log message to quickly increase file size. This is a long log message to quickly increase file size. This is a long log message to quickly increase file size. This is a long log message to quickly increase file size. This is a long log message to quickly increase file size. This is a long log message to quickly increase file size. This is a long log message to quickly increase file size. This is a long log message to quickly increase file size. This is a long log message to quickly increase file size. This is a long log message to quickly increase file size. This is a long log message to quickly increase file size. This is a long log message to quickly increase file size. This is a long log message to quickly increase file size. This is a long log message to quickly increase file size. \n",
            "INFO:my_app_logger:Log entry number 84: This is a long log message to quickly increase file size. This is a long log message to quickly increase file size. This is a long log message to quickly increase file size. This is a long log message to quickly increase file size. This is a long log message to quickly increase file size. This is a long log message to quickly increase file size. This is a long log message to quickly increase file size. This is a long log message to quickly increase file size. This is a long log message to quickly increase file size. This is a long log message to quickly increase file size. This is a long log message to quickly increase file size. This is a long log message to quickly increase file size. This is a long log message to quickly increase file size. This is a long log message to quickly increase file size. This is a long log message to quickly increase file size. This is a long log message to quickly increase file size. This is a long log message to quickly increase file size. This is a long log message to quickly increase file size. This is a long log message to quickly increase file size. This is a long log message to quickly increase file size. \n",
            "INFO:my_app_logger:Log entry number 85: This is a long log message to quickly increase file size. This is a long log message to quickly increase file size. This is a long log message to quickly increase file size. This is a long log message to quickly increase file size. This is a long log message to quickly increase file size. This is a long log message to quickly increase file size. This is a long log message to quickly increase file size. This is a long log message to quickly increase file size. This is a long log message to quickly increase file size. This is a long log message to quickly increase file size. This is a long log message to quickly increase file size. This is a long log message to quickly increase file size. This is a long log message to quickly increase file size. This is a long log message to quickly increase file size. This is a long log message to quickly increase file size. This is a long log message to quickly increase file size. This is a long log message to quickly increase file size. This is a long log message to quickly increase file size. This is a long log message to quickly increase file size. This is a long log message to quickly increase file size. \n",
            "INFO:my_app_logger:Log entry number 86: This is a long log message to quickly increase file size. This is a long log message to quickly increase file size. This is a long log message to quickly increase file size. This is a long log message to quickly increase file size. This is a long log message to quickly increase file size. This is a long log message to quickly increase file size. This is a long log message to quickly increase file size. This is a long log message to quickly increase file size. This is a long log message to quickly increase file size. This is a long log message to quickly increase file size. This is a long log message to quickly increase file size. This is a long log message to quickly increase file size. This is a long log message to quickly increase file size. This is a long log message to quickly increase file size. This is a long log message to quickly increase file size. This is a long log message to quickly increase file size. This is a long log message to quickly increase file size. This is a long log message to quickly increase file size. This is a long log message to quickly increase file size. This is a long log message to quickly increase file size. \n",
            "INFO:my_app_logger:Log entry number 87: This is a long log message to quickly increase file size. This is a long log message to quickly increase file size. This is a long log message to quickly increase file size. This is a long log message to quickly increase file size. This is a long log message to quickly increase file size. This is a long log message to quickly increase file size. This is a long log message to quickly increase file size. This is a long log message to quickly increase file size. This is a long log message to quickly increase file size. This is a long log message to quickly increase file size. This is a long log message to quickly increase file size. This is a long log message to quickly increase file size. This is a long log message to quickly increase file size. This is a long log message to quickly increase file size. This is a long log message to quickly increase file size. This is a long log message to quickly increase file size. This is a long log message to quickly increase file size. This is a long log message to quickly increase file size. This is a long log message to quickly increase file size. This is a long log message to quickly increase file size. \n",
            "INFO:my_app_logger:Log entry number 88: This is a long log message to quickly increase file size. This is a long log message to quickly increase file size. This is a long log message to quickly increase file size. This is a long log message to quickly increase file size. This is a long log message to quickly increase file size. This is a long log message to quickly increase file size. This is a long log message to quickly increase file size. This is a long log message to quickly increase file size. This is a long log message to quickly increase file size. This is a long log message to quickly increase file size. This is a long log message to quickly increase file size. This is a long log message to quickly increase file size. This is a long log message to quickly increase file size. This is a long log message to quickly increase file size. This is a long log message to quickly increase file size. This is a long log message to quickly increase file size. This is a long log message to quickly increase file size. This is a long log message to quickly increase file size. This is a long log message to quickly increase file size. This is a long log message to quickly increase file size. \n",
            "INFO:my_app_logger:Log entry number 89: This is a long log message to quickly increase file size. This is a long log message to quickly increase file size. This is a long log message to quickly increase file size. This is a long log message to quickly increase file size. This is a long log message to quickly increase file size. This is a long log message to quickly increase file size. This is a long log message to quickly increase file size. This is a long log message to quickly increase file size. This is a long log message to quickly increase file size. This is a long log message to quickly increase file size. This is a long log message to quickly increase file size. This is a long log message to quickly increase file size. This is a long log message to quickly increase file size. This is a long log message to quickly increase file size. This is a long log message to quickly increase file size. This is a long log message to quickly increase file size. This is a long log message to quickly increase file size. This is a long log message to quickly increase file size. This is a long log message to quickly increase file size. This is a long log message to quickly increase file size. \n",
            "INFO:my_app_logger:Log entry number 90: This is a long log message to quickly increase file size. This is a long log message to quickly increase file size. This is a long log message to quickly increase file size. This is a long log message to quickly increase file size. This is a long log message to quickly increase file size. This is a long log message to quickly increase file size. This is a long log message to quickly increase file size. This is a long log message to quickly increase file size. This is a long log message to quickly increase file size. This is a long log message to quickly increase file size. This is a long log message to quickly increase file size. This is a long log message to quickly increase file size. This is a long log message to quickly increase file size. This is a long log message to quickly increase file size. This is a long log message to quickly increase file size. This is a long log message to quickly increase file size. This is a long log message to quickly increase file size. This is a long log message to quickly increase file size. This is a long log message to quickly increase file size. This is a long log message to quickly increase file size. \n",
            "INFO:my_app_logger:Log entry number 91: This is a long log message to quickly increase file size. This is a long log message to quickly increase file size. This is a long log message to quickly increase file size. This is a long log message to quickly increase file size. This is a long log message to quickly increase file size. This is a long log message to quickly increase file size. This is a long log message to quickly increase file size. This is a long log message to quickly increase file size. This is a long log message to quickly increase file size. This is a long log message to quickly increase file size. This is a long log message to quickly increase file size. This is a long log message to quickly increase file size. This is a long log message to quickly increase file size. This is a long log message to quickly increase file size. This is a long log message to quickly increase file size. This is a long log message to quickly increase file size. This is a long log message to quickly increase file size. This is a long log message to quickly increase file size. This is a long log message to quickly increase file size. This is a long log message to quickly increase file size. \n",
            "INFO:my_app_logger:Log entry number 92: This is a long log message to quickly increase file size. This is a long log message to quickly increase file size. This is a long log message to quickly increase file size. This is a long log message to quickly increase file size. This is a long log message to quickly increase file size. This is a long log message to quickly increase file size. This is a long log message to quickly increase file size. This is a long log message to quickly increase file size. This is a long log message to quickly increase file size. This is a long log message to quickly increase file size. This is a long log message to quickly increase file size. This is a long log message to quickly increase file size. This is a long log message to quickly increase file size. This is a long log message to quickly increase file size. This is a long log message to quickly increase file size. This is a long log message to quickly increase file size. This is a long log message to quickly increase file size. This is a long log message to quickly increase file size. This is a long log message to quickly increase file size. This is a long log message to quickly increase file size. \n"
          ]
        },
        {
          "output_type": "stream",
          "name": "stdout",
          "text": [
            "Logging to 'app.log' with a max size of 1MB and 5 backups.\n",
            "Writing log messages... This may take a moment to trigger file rotation.\n",
            "Logged 0 messages so far...\n",
            "Logged 20 messages so far...\n",
            "Logged 40 messages so far...\n",
            "Logged 60 messages so far...\n",
            "Logged 80 messages so far...\n"
          ]
        },
        {
          "output_type": "stream",
          "name": "stderr",
          "text": [
            "INFO:my_app_logger:Log entry number 93: This is a long log message to quickly increase file size. This is a long log message to quickly increase file size. This is a long log message to quickly increase file size. This is a long log message to quickly increase file size. This is a long log message to quickly increase file size. This is a long log message to quickly increase file size. This is a long log message to quickly increase file size. This is a long log message to quickly increase file size. This is a long log message to quickly increase file size. This is a long log message to quickly increase file size. This is a long log message to quickly increase file size. This is a long log message to quickly increase file size. This is a long log message to quickly increase file size. This is a long log message to quickly increase file size. This is a long log message to quickly increase file size. This is a long log message to quickly increase file size. This is a long log message to quickly increase file size. This is a long log message to quickly increase file size. This is a long log message to quickly increase file size. This is a long log message to quickly increase file size. \n",
            "INFO:my_app_logger:Log entry number 94: This is a long log message to quickly increase file size. This is a long log message to quickly increase file size. This is a long log message to quickly increase file size. This is a long log message to quickly increase file size. This is a long log message to quickly increase file size. This is a long log message to quickly increase file size. This is a long log message to quickly increase file size. This is a long log message to quickly increase file size. This is a long log message to quickly increase file size. This is a long log message to quickly increase file size. This is a long log message to quickly increase file size. This is a long log message to quickly increase file size. This is a long log message to quickly increase file size. This is a long log message to quickly increase file size. This is a long log message to quickly increase file size. This is a long log message to quickly increase file size. This is a long log message to quickly increase file size. This is a long log message to quickly increase file size. This is a long log message to quickly increase file size. This is a long log message to quickly increase file size. \n",
            "INFO:my_app_logger:Log entry number 95: This is a long log message to quickly increase file size. This is a long log message to quickly increase file size. This is a long log message to quickly increase file size. This is a long log message to quickly increase file size. This is a long log message to quickly increase file size. This is a long log message to quickly increase file size. This is a long log message to quickly increase file size. This is a long log message to quickly increase file size. This is a long log message to quickly increase file size. This is a long log message to quickly increase file size. This is a long log message to quickly increase file size. This is a long log message to quickly increase file size. This is a long log message to quickly increase file size. This is a long log message to quickly increase file size. This is a long log message to quickly increase file size. This is a long log message to quickly increase file size. This is a long log message to quickly increase file size. This is a long log message to quickly increase file size. This is a long log message to quickly increase file size. This is a long log message to quickly increase file size. \n",
            "INFO:my_app_logger:Log entry number 96: This is a long log message to quickly increase file size. This is a long log message to quickly increase file size. This is a long log message to quickly increase file size. This is a long log message to quickly increase file size. This is a long log message to quickly increase file size. This is a long log message to quickly increase file size. This is a long log message to quickly increase file size. This is a long log message to quickly increase file size. This is a long log message to quickly increase file size. This is a long log message to quickly increase file size. This is a long log message to quickly increase file size. This is a long log message to quickly increase file size. This is a long log message to quickly increase file size. This is a long log message to quickly increase file size. This is a long log message to quickly increase file size. This is a long log message to quickly increase file size. This is a long log message to quickly increase file size. This is a long log message to quickly increase file size. This is a long log message to quickly increase file size. This is a long log message to quickly increase file size. \n",
            "INFO:my_app_logger:Log entry number 97: This is a long log message to quickly increase file size. This is a long log message to quickly increase file size. This is a long log message to quickly increase file size. This is a long log message to quickly increase file size. This is a long log message to quickly increase file size. This is a long log message to quickly increase file size. This is a long log message to quickly increase file size. This is a long log message to quickly increase file size. This is a long log message to quickly increase file size. This is a long log message to quickly increase file size. This is a long log message to quickly increase file size. This is a long log message to quickly increase file size. This is a long log message to quickly increase file size. This is a long log message to quickly increase file size. This is a long log message to quickly increase file size. This is a long log message to quickly increase file size. This is a long log message to quickly increase file size. This is a long log message to quickly increase file size. This is a long log message to quickly increase file size. This is a long log message to quickly increase file size. \n",
            "INFO:my_app_logger:Log entry number 98: This is a long log message to quickly increase file size. This is a long log message to quickly increase file size. This is a long log message to quickly increase file size. This is a long log message to quickly increase file size. This is a long log message to quickly increase file size. This is a long log message to quickly increase file size. This is a long log message to quickly increase file size. This is a long log message to quickly increase file size. This is a long log message to quickly increase file size. This is a long log message to quickly increase file size. This is a long log message to quickly increase file size. This is a long log message to quickly increase file size. This is a long log message to quickly increase file size. This is a long log message to quickly increase file size. This is a long log message to quickly increase file size. This is a long log message to quickly increase file size. This is a long log message to quickly increase file size. This is a long log message to quickly increase file size. This is a long log message to quickly increase file size. This is a long log message to quickly increase file size. \n",
            "INFO:my_app_logger:Log entry number 99: This is a long log message to quickly increase file size. This is a long log message to quickly increase file size. This is a long log message to quickly increase file size. This is a long log message to quickly increase file size. This is a long log message to quickly increase file size. This is a long log message to quickly increase file size. This is a long log message to quickly increase file size. This is a long log message to quickly increase file size. This is a long log message to quickly increase file size. This is a long log message to quickly increase file size. This is a long log message to quickly increase file size. This is a long log message to quickly increase file size. This is a long log message to quickly increase file size. This is a long log message to quickly increase file size. This is a long log message to quickly increase file size. This is a long log message to quickly increase file size. This is a long log message to quickly increase file size. This is a long log message to quickly increase file size. This is a long log message to quickly increase file size. This is a long log message to quickly increase file size. \n"
          ]
        },
        {
          "output_type": "stream",
          "name": "stdout",
          "text": [
            "\n",
            "Log messages written. Check the directory for 'app.log' and rotated files.\n",
            "Files in the current directory starting with 'app.log':\n",
            " - app.log\n",
            " - app.log.1\n",
            " - app.log.2\n",
            " - app.log.3\n",
            " - app.log.4\n",
            " - app.log.5\n"
          ]
        }
      ]
    },
    {
      "cell_type": "markdown",
      "source": [
        "19. Write a program that handles both IndexError and KeyError using a try-except block."
      ],
      "metadata": {
        "id": "Gt-13XuISzo1"
      }
    },
    {
      "cell_type": "code",
      "source": [
        "def handle_errors(data, key_or_index):\n",
        "    \"\"\"\n",
        "    Attempts to access data and handles both KeyError and IndexError.\n",
        "\n",
        "    Args:\n",
        "        data: A list or a dictionary.\n",
        "        key_or_index: The key or index to access the data.\n",
        "    \"\"\"\n",
        "    try:\n",
        "        print(f\"Attempting to access '{key_or_index}' from the data.\")\n",
        "        # We use a simple if-else to determine which type of access to attempt.\n",
        "        # This is for demonstration purposes.\n",
        "        if isinstance(data, list):\n",
        "            value = data[key_or_index]\n",
        "        else: # Assumes it's a dictionary for this example\n",
        "            value = data[key_or_index]\n",
        "\n",
        "        print(f\"Successfully accessed data. The value is: {value}\")\n",
        "    except (KeyError, IndexError) as e:\n",
        "        # This single 'except' block catches both KeyError and IndexError.\n",
        "        # We can use the 'e' variable to get the specific error message.\n",
        "        print(f\"An error occurred: {type(e).__name__}.\")\n",
        "        print(f\"Invalid key or index '{key_or_index}' was provided.\")\n",
        "    finally:\n",
        "        # The 'finally' block always executes, regardless of whether an\n",
        "        # exception occurred or not. It's useful for cleanup actions.\n",
        "        print(\"--- Operation completed. ---\\n\")\n",
        "\n",
        "# --- Example Usage ---\n",
        "\n",
        "# 1. Handling an IndexError with a list\n",
        "my_list = ['apple', 'banana', 'cherry']\n",
        "handle_errors(my_list, 5)  # Index 5 is out of range\n",
        "\n",
        "# 2. Handling a KeyError with a dictionary\n",
        "my_dict = {'name': 'Alice', 'age': 30, 'city': 'New York'}\n",
        "handle_errors(my_dict, 'country') # 'country' is not a key\n",
        "\n",
        "# 3. Successful access with a dictionary\n",
        "handle_errors(my_dict, 'name')\n",
        "\n",
        "# 4. Successful access with a list\n",
        "handle_errors(my_list, 1)"
      ],
      "metadata": {
        "colab": {
          "base_uri": "https://localhost:8080/"
        },
        "id": "v6H_DU78XAPp",
        "outputId": "3c880251-bcfa-4155-b187-48c64ab18018"
      },
      "execution_count": null,
      "outputs": [
        {
          "output_type": "stream",
          "name": "stdout",
          "text": [
            "Attempting to access '5' from the data.\n",
            "An error occurred: IndexError.\n",
            "Invalid key or index '5' was provided.\n",
            "--- Operation completed. ---\n",
            "\n",
            "Attempting to access 'country' from the data.\n",
            "An error occurred: KeyError.\n",
            "Invalid key or index 'country' was provided.\n",
            "--- Operation completed. ---\n",
            "\n",
            "Attempting to access 'name' from the data.\n",
            "Successfully accessed data. The value is: Alice\n",
            "--- Operation completed. ---\n",
            "\n",
            "Attempting to access '1' from the data.\n",
            "Successfully accessed data. The value is: banana\n",
            "--- Operation completed. ---\n",
            "\n"
          ]
        }
      ]
    },
    {
      "cell_type": "markdown",
      "source": [
        "20. How would you open a file and read its contents using a context manager in Python?"
      ],
      "metadata": {
        "id": "ITzijSVuXII3"
      }
    },
    {
      "cell_type": "code",
      "source": [
        "import os\n",
        "\n",
        "def create_dummy_file(filename, content):\n",
        "    \"\"\"\n",
        "    Creates a simple text file with the given content.\n",
        "    This is for demonstration purposes to make the example runnable.\n",
        "    \"\"\"\n",
        "    try:\n",
        "        with open(filename, 'w') as f:\n",
        "            f.write(content)\n",
        "        print(f\"Created a dummy file named '{filename}'.\")\n",
        "    except IOError as e:\n",
        "        print(f\"Error creating file '{filename}': {e}\")\n",
        "\n",
        "def read_file_with_context_manager(filename):\n",
        "    \"\"\"\n",
        "    Opens and reads the entire content of a file using a 'with' statement.\n",
        "    The 'with' statement is a context manager that ensures the file is\n",
        "    automatically closed after the block is executed, even if exceptions occur.\n",
        "    \"\"\"\n",
        "    try:\n",
        "        # The 'with open(...) as f:' syntax is the context manager.\n",
        "        # It opens the file and assigns the file object to 'f'.\n",
        "        with open(filename, 'r') as f:\n",
        "            # The .read() method reads the entire content of the file\n",
        "            # and returns it as a single string.\n",
        "            file_contents = f.read()\n",
        "            print(\"\\nSuccessfully read file contents:\")\n",
        "            print(\"------------------------------\")\n",
        "            print(file_contents)\n",
        "            print(\"------------------------------\")\n",
        "\n",
        "        # After the 'with' block, the file is automatically closed.\n",
        "        print(f\"\\nFile '{filename}' was automatically closed.\")\n",
        "\n",
        "    except FileNotFoundError:\n",
        "        print(f\"\\nError: The file '{filename}' was not found.\")\n",
        "    except IOError as e:\n",
        "        print(f\"\\nError reading file '{filename}': {e}\")\n",
        "    except Exception as e:\n",
        "        print(f\"\\nAn unexpected error occurred: {e}\")\n",
        "\n",
        "if __name__ == \"__main__\":\n",
        "    # Define the name and content of our dummy file\n",
        "    file_to_read = \"my_text_file.txt\"\n",
        "    dummy_content = \"Hello, this is the first line.\\n\" \\\n",
        "                    \"This is the second line of text.\\n\" \\\n",
        "                    \"And this is the final line.\"\n",
        "\n",
        "    # First, create the file so our script has something to read\n",
        "    create_dummy_file(file_to_read, dummy_content)\n",
        "\n",
        "    # Now, call the function to read the file\n",
        "    read_file_with_context_manager(file_to_read)\n",
        "\n",
        "    # Clean up the dummy file\n",
        "    try:\n",
        "        os.remove(file_to_read)\n",
        "        print(f\"\\nCleaned up the dummy file '{file_to_read}'.\")\n",
        "    except OSError as e:\n",
        "        print(f\"\\nError cleaning up file '{file_to_read}': {e}\")"
      ],
      "metadata": {
        "colab": {
          "base_uri": "https://localhost:8080/"
        },
        "id": "_1acSDgTXNI2",
        "outputId": "838bc6eb-82ba-4fea-9040-43c40fbfd15d"
      },
      "execution_count": null,
      "outputs": [
        {
          "output_type": "stream",
          "name": "stdout",
          "text": [
            "Created a dummy file named 'my_text_file.txt'.\n",
            "\n",
            "Successfully read file contents:\n",
            "------------------------------\n",
            "Hello, this is the first line.\n",
            "This is the second line of text.\n",
            "And this is the final line.\n",
            "------------------------------\n",
            "\n",
            "File 'my_text_file.txt' was automatically closed.\n",
            "\n",
            "Cleaned up the dummy file 'my_text_file.txt'.\n"
          ]
        }
      ]
    },
    {
      "cell_type": "markdown",
      "source": [
        "21. Write a Python program that reads a file and prints the number of occurrences of a specific word."
      ],
      "metadata": {
        "id": "PS04YJ93XWLW"
      }
    },
    {
      "cell_type": "code",
      "source": [
        "def count_word_occurrences(filename, word_to_find):\n",
        "    \"\"\"\n",
        "    Reads a file and counts the number of times a specific word appears.\n",
        "\n",
        "    Args:\n",
        "        filename (str): The path to the text file.\n",
        "        word_to_find (str): The word to search for.\n",
        "\n",
        "    Returns:\n",
        "        int: The number of occurrences of the word.\n",
        "        None: If the file is not found.\n",
        "    \"\"\"\n",
        "    try:\n",
        "        # Use a 'with' statement to ensure the file is properly closed\n",
        "        with open(filename, 'r', encoding='utf-8') as file:\n",
        "            # Read the entire content of the file\n",
        "            content = file.read()\n",
        "\n",
        "            # Normalize the text by converting it to lowercase and removing punctuation\n",
        "            # This ensures that \"Word\" and \"word.\" are counted as the same.\n",
        "            normalized_content = re.sub(r'[^\\w\\s]', '', content.lower())\n",
        "\n",
        "            # Split the content into a list of words\n",
        "            words = normalized_content.split()\n",
        "\n",
        "            # Count the occurrences of the specified word\n",
        "            count = words.count(word_to_find.lower())\n",
        "\n",
        "            return count\n",
        "\n",
        "    except FileNotFoundError:\n",
        "        print(f\"Error: The file '{filename}' was not found.\")\n",
        "        return None\n",
        "\n",
        "# Example usage of the function\n",
        "if __name__ == \"__main__\":\n",
        "    # To use this program, you will need a file named 'sample.txt'\n",
        "    # in the same directory, or you can change the filename below.\n",
        "    # For example, create a file and add the text:\n",
        "    # \"Hello world. This is a sample file. The world is a beautiful place.\"\n",
        "\n",
        "    file_to_read = 'sample.txt'\n",
        "    search_word = 'world'\n",
        "\n",
        "    occurrence_count = count_word_occurrences(file_to_read, search_word)\n",
        "\n",
        "    if occurrence_count is not None:\n",
        "        print(f\"The word '{search_word}' appears {occurrence_count} times in the file.\")"
      ],
      "metadata": {
        "colab": {
          "base_uri": "https://localhost:8080/"
        },
        "id": "YsPdu7H3XZrO",
        "outputId": "f436c207-412a-4a79-8719-7cb62de1f5d7"
      },
      "execution_count": null,
      "outputs": [
        {
          "output_type": "stream",
          "name": "stdout",
          "text": [
            "Error: The file 'sample.txt' was not found.\n"
          ]
        }
      ]
    },
    {
      "cell_type": "markdown",
      "source": [
        "22.  How can you check if a file is empty before attempting to read its contents?"
      ],
      "metadata": {
        "id": "zz0GgwVaXkrd"
      }
    },
    {
      "cell_type": "code",
      "source": [
        "def is_file_empty(file_path):\n",
        "    \"\"\"\n",
        "    Checks if a file is empty by inspecting its size.\n",
        "\n",
        "    Args:\n",
        "        file_path (str): The path to the file.\n",
        "\n",
        "    Returns:\n",
        "        bool: True if the file exists and is empty, False otherwise.\n",
        "              Returns None if the file does not exist.\n",
        "    \"\"\"\n",
        "    if not os.path.exists(file_path):\n",
        "        print(f\"Error: The file '{file_path}' does not exist.\")\n",
        "        return None  # Return None to indicate the file wasn't found\n",
        "\n",
        "    # Get the file size in bytes\n",
        "    file_size = os.path.getsize(file_path)\n",
        "\n",
        "    # An empty file has a size of 0 bytes\n",
        "    return file_size == 0\n",
        "\n",
        "# --- Demonstration ---\n",
        "if __name__ == \"__main__\":\n",
        "    # Create two dummy files for demonstration\n",
        "    empty_file = \"empty_test_file.txt\"\n",
        "    with open(empty_file, \"w\") as f:\n",
        "        pass  # This creates an empty file\n",
        "\n",
        "    non_empty_file = \"non_empty_test_file.txt\"\n",
        "    with open(non_empty_file, \"w\") as f:\n",
        "        f.write(\"This file contains some text.\")\n",
        "\n",
        "    # Scenario 1: Check an empty file\n",
        "    is_empty = is_file_empty(empty_file)\n",
        "    if is_empty is True:\n",
        "        print(f\"'{empty_file}' is empty.\")\n",
        "    elif is_empty is False:\n",
        "        print(f\"'{empty_file}' is not empty.\")\n",
        "\n",
        "    print(\"-\" * 20)\n",
        "\n",
        "    # Scenario 2: Check a non-empty file\n",
        "    is_empty = is_file_empty(non_empty_file)\n",
        "    if is_empty is True:\n",
        "        print(f\"'{non_empty_file}' is empty.\")\n",
        "    elif is_empty is False:\n",
        "        print(f\"'{non_empty_file}' is not empty.\")\n",
        "\n",
        "    print(\"-\" * 20)\n",
        "\n",
        "    # Scenario 3: Check a file that doesn't exist\n",
        "    non_existent_file = \"i_dont_exist.txt\"\n",
        "    is_empty = is_file_empty(non_existent_file)\n",
        "    if is_empty is True:\n",
        "        print(f\"'{non_existent_file}' is empty.\")\n",
        "    elif is_empty is False:\n",
        "        print(f\"'{non_existent_file}' is not empty.\")\n",
        "\n",
        "    # Clean up the dummy files\n",
        "    os.remove(empty_file)\n",
        "    os.remove(non_empty_file)"
      ],
      "metadata": {
        "colab": {
          "base_uri": "https://localhost:8080/"
        },
        "id": "qcAWoztQXnl2",
        "outputId": "cb73971c-9014-483b-b061-de914c11517b"
      },
      "execution_count": null,
      "outputs": [
        {
          "output_type": "stream",
          "name": "stdout",
          "text": [
            "'empty_test_file.txt' is empty.\n",
            "--------------------\n",
            "'non_empty_test_file.txt' is not empty.\n",
            "--------------------\n",
            "Error: The file 'i_dont_exist.txt' does not exist.\n"
          ]
        }
      ]
    },
    {
      "cell_type": "markdown",
      "source": [
        "23.  Write a Python program that writes to a log file when an error occurs during file handling."
      ],
      "metadata": {
        "id": "4gKqagE3Xvuz"
      }
    },
    {
      "cell_type": "code",
      "source": [
        "def setup_logger():\n",
        "    \"\"\"\n",
        "    Sets up a logger to write error messages to a file.\n",
        "    The log file is named 'file_errors.log'.\n",
        "    \"\"\"\n",
        "    # Create a logger\n",
        "    logger = logging.getLogger('file_error_logger')\n",
        "    logger.setLevel(logging.ERROR)\n",
        "\n",
        "    # Create a file handler to write logs to a file\n",
        "    file_handler = logging.FileHandler('file_errors.log')\n",
        "    file_handler.setLevel(logging.ERROR)\n",
        "\n",
        "    # Create a formatter to define the log message format\n",
        "    # The format includes the timestamp, log level, and the error message\n",
        "    formatter = logging.Formatter('%(asctime)s - %(levelname)s - %(message)s')\n",
        "    file_handler.setFormatter(formatter)\n",
        "\n",
        "    # Add the file handler to the logger\n",
        "    logger.addHandler(file_handler)\n",
        "    return logger\n",
        "\n",
        "def process_file(file_name, logger):\n",
        "    \"\"\"\n",
        "    Attempts to open and read a file. If an error occurs,\n",
        "    it logs the error to the specified logger.\n",
        "    \"\"\"\n",
        "    try:\n",
        "        # Attempt to open the file in read mode ('r')\n",
        "        with open(file_name, 'r') as file:\n",
        "            content = file.read()\n",
        "            print(f\"Successfully read the file '{file_name}'.\")\n",
        "            print(\"File content:\")\n",
        "            print(content)\n",
        "    except FileNotFoundError:\n",
        "        # This block is executed if the file does not exist.\n",
        "        error_message = f\"Error: The file '{file_name}' was not found.\"\n",
        "        print(error_message)\n",
        "        logger.error(error_message)\n",
        "    except IOError as e:\n",
        "        # This block catches other I/O errors, like permission issues.\n",
        "        error_message = f\"Error: An I/O error occurred while handling '{file_name}'. Details: {e}\"\n",
        "        print(error_message)\n",
        "        logger.error(error_message)\n",
        "    except Exception as e:\n",
        "        # This is a general catch-all for any other unexpected errors.\n",
        "        error_message = f\"An unexpected error occurred: {e}\"\n",
        "        print(error_message)\n",
        "        logger.error(error_message)\n",
        "\n",
        "def main():\n",
        "    \"\"\"\n",
        "    Main function to run the program.\n",
        "    \"\"\"\n",
        "    # Set up the logger first\n",
        "    error_logger = setup_logger()\n",
        "\n",
        "    # Case 1: Attempt to process a file that exists\n",
        "    print(\"--- Attempting to process 'existing_file.txt' ---\")\n",
        "\n",
        "    # Create a dummy file for this demonstration\n",
        "    with open('existing_file.txt', 'w') as f:\n",
        "        f.write(\"This is a test file content.\")\n",
        "\n",
        "    process_file('existing_file.txt', error_logger)\n",
        "    print(\"\\n\")\n",
        "\n",
        "    # Case 2: Attempt to process a file that does not exist (this will trigger an error)\n",
        "    print(\"--- Attempting to process 'non_existent_file.txt' ---\")\n",
        "    process_file('non_existent_file.txt', error_logger)\n",
        "    print(\"\\n\")\n",
        "    print(\"Error logging complete. Check 'file_errors.log' for details.\")\n",
        "\n",
        "# Run the main function\n",
        "if __name__ == \"__main__\":\n",
        "    main()"
      ],
      "metadata": {
        "colab": {
          "base_uri": "https://localhost:8080/"
        },
        "id": "4eT8vruxX1AC",
        "outputId": "9af9431e-46dd-494e-d044-ccd9b56c162b"
      },
      "execution_count": null,
      "outputs": [
        {
          "output_type": "stream",
          "name": "stderr",
          "text": [
            "ERROR:file_error_logger:Error: The file 'non_existent_file.txt' was not found.\n"
          ]
        },
        {
          "output_type": "stream",
          "name": "stdout",
          "text": [
            "--- Attempting to process 'existing_file.txt' ---\n",
            "Successfully read the file 'existing_file.txt'.\n",
            "File content:\n",
            "This is a test file content.\n",
            "\n",
            "\n",
            "--- Attempting to process 'non_existent_file.txt' ---\n",
            "Error: The file 'non_existent_file.txt' was not found.\n",
            "\n",
            "\n",
            "Error logging complete. Check 'file_errors.log' for details.\n"
          ]
        }
      ]
    }
  ]
}